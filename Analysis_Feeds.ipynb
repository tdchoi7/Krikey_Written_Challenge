{
 "cells": [
  {
   "cell_type": "code",
   "execution_count": 1,
   "id": "fb01b3f8",
   "metadata": {},
   "outputs": [],
   "source": [
    "import pandas as pd\n",
    "import numpy as np\n",
    "\n",
    "import matplotlib.pyplot as plt\n",
    "import seaborn as sns\n",
    "import copy"
   ]
  },
  {
   "cell_type": "markdown",
   "id": "4d417cae",
   "metadata": {},
   "source": [
    "### Feeds"
   ]
  },
  {
   "cell_type": "code",
   "execution_count": 2,
   "id": "ca542873",
   "metadata": {
    "scrolled": false
   },
   "outputs": [
    {
     "data": {
      "text/html": [
       "<div>\n",
       "<style scoped>\n",
       "    .dataframe tbody tr th:only-of-type {\n",
       "        vertical-align: middle;\n",
       "    }\n",
       "\n",
       "    .dataframe tbody tr th {\n",
       "        vertical-align: top;\n",
       "    }\n",
       "\n",
       "    .dataframe thead th {\n",
       "        text-align: right;\n",
       "    }\n",
       "</style>\n",
       "<table border=\"1\" class=\"dataframe\">\n",
       "  <thead>\n",
       "    <tr style=\"text-align: right;\">\n",
       "      <th></th>\n",
       "      <th>id</th>\n",
       "      <th>name</th>\n",
       "    </tr>\n",
       "  </thead>\n",
       "  <tbody>\n",
       "    <tr>\n",
       "      <th>0</th>\n",
       "      <td>27a87df4-da75-451f-b8f6-af9dd0a4ee00</td>\n",
       "      <td>music</td>\n",
       "    </tr>\n",
       "    <tr>\n",
       "      <th>1</th>\n",
       "      <td>42568c8a-efbe-4293-81a3-513e33094ade</td>\n",
       "      <td>fashion</td>\n",
       "    </tr>\n",
       "    <tr>\n",
       "      <th>2</th>\n",
       "      <td>6894af29-56cc-4b4a-8ee6-be9b3cb3e7f1</td>\n",
       "      <td>sports</td>\n",
       "    </tr>\n",
       "    <tr>\n",
       "      <th>3</th>\n",
       "      <td>c9d59470-c4ee-43ff-831d-b52508c8d848</td>\n",
       "      <td>games</td>\n",
       "    </tr>\n",
       "    <tr>\n",
       "      <th>4</th>\n",
       "      <td>582520b2-b30a-4ecb-b1b4-1806672fcfc4</td>\n",
       "      <td>travel</td>\n",
       "    </tr>\n",
       "    <tr>\n",
       "      <th>5</th>\n",
       "      <td>a8a04865-55d4-4de4-8141-b273b678299f</td>\n",
       "      <td>fun</td>\n",
       "    </tr>\n",
       "    <tr>\n",
       "      <th>6</th>\n",
       "      <td>644a3cb6-e266-4757-9e96-a3ee049216fe</td>\n",
       "      <td>jokes</td>\n",
       "    </tr>\n",
       "    <tr>\n",
       "      <th>7</th>\n",
       "      <td>da6c201f-8e50-433c-b2ad-614e42fac047</td>\n",
       "      <td>love</td>\n",
       "    </tr>\n",
       "    <tr>\n",
       "      <th>8</th>\n",
       "      <td>8078efe7-5bae-4528-9a66-b85904cc73ac</td>\n",
       "      <td>dance</td>\n",
       "    </tr>\n",
       "    <tr>\n",
       "      <th>9</th>\n",
       "      <td>30134b9e-1b79-43fb-b0c5-373af9237b2c</td>\n",
       "      <td>beaches</td>\n",
       "    </tr>\n",
       "  </tbody>\n",
       "</table>\n",
       "</div>"
      ],
      "text/plain": [
       "                                     id     name\n",
       "0  27a87df4-da75-451f-b8f6-af9dd0a4ee00    music\n",
       "1  42568c8a-efbe-4293-81a3-513e33094ade  fashion\n",
       "2  6894af29-56cc-4b4a-8ee6-be9b3cb3e7f1   sports\n",
       "3  c9d59470-c4ee-43ff-831d-b52508c8d848    games\n",
       "4  582520b2-b30a-4ecb-b1b4-1806672fcfc4   travel\n",
       "5  a8a04865-55d4-4de4-8141-b273b678299f      fun\n",
       "6  644a3cb6-e266-4757-9e96-a3ee049216fe    jokes\n",
       "7  da6c201f-8e50-433c-b2ad-614e42fac047     love\n",
       "8  8078efe7-5bae-4528-9a66-b85904cc73ac    dance\n",
       "9  30134b9e-1b79-43fb-b0c5-373af9237b2c  beaches"
      ]
     },
     "execution_count": 2,
     "metadata": {},
     "output_type": "execute_result"
    }
   ],
   "source": [
    "# checking feeds\n",
    "\n",
    "feeds = pd.read_csv('feeds.csv', index_col=0)\n",
    "feeds"
   ]
  },
  {
   "cell_type": "code",
   "execution_count": 3,
   "id": "1c4d077c",
   "metadata": {},
   "outputs": [],
   "source": [
    "# seems to be nothing to analyze as there is only a name and its associate ID\n",
    "# check other tables for possible association"
   ]
  },
  {
   "cell_type": "markdown",
   "id": "9b1b2054",
   "metadata": {},
   "source": [
    "### Videos"
   ]
  },
  {
   "cell_type": "code",
   "execution_count": 4,
   "id": "08c4dfad",
   "metadata": {
    "scrolled": false
   },
   "outputs": [
    {
     "data": {
      "text/html": [
       "<div>\n",
       "<style scoped>\n",
       "    .dataframe tbody tr th:only-of-type {\n",
       "        vertical-align: middle;\n",
       "    }\n",
       "\n",
       "    .dataframe tbody tr th {\n",
       "        vertical-align: top;\n",
       "    }\n",
       "\n",
       "    .dataframe thead th {\n",
       "        text-align: right;\n",
       "    }\n",
       "</style>\n",
       "<table border=\"1\" class=\"dataframe\">\n",
       "  <thead>\n",
       "    <tr style=\"text-align: right;\">\n",
       "      <th></th>\n",
       "      <th>id</th>\n",
       "      <th>attribute_id</th>\n",
       "      <th>music_id</th>\n",
       "      <th>animation_id</th>\n",
       "      <th>duration</th>\n",
       "      <th>creator</th>\n",
       "      <th>created_at</th>\n",
       "      <th>num_shares</th>\n",
       "      <th>game_id</th>\n",
       "      <th>is_ar</th>\n",
       "    </tr>\n",
       "  </thead>\n",
       "  <tbody>\n",
       "    <tr>\n",
       "      <th>0</th>\n",
       "      <td>6e884071-8c0e-4782-aa40-e0fd78243360</td>\n",
       "      <td>4712e9e6-bef1-4646-b21e-ca5336901bf9</td>\n",
       "      <td>4ee0de5b-e27f-4d73-a3c6-52cf26e36c54</td>\n",
       "      <td>17dab81c-6180-4a4b-b539-91978a726cfd</td>\n",
       "      <td>5.34</td>\n",
       "      <td>73ec1ac2-d148-45ac-94a8-9bdff51730d7</td>\n",
       "      <td>2021-08-04 10:42:39</td>\n",
       "      <td>12</td>\n",
       "      <td>8bd4c7be-fe87-45ad-990d-d131cd3d9c77</td>\n",
       "      <td>True</td>\n",
       "    </tr>\n",
       "    <tr>\n",
       "      <th>1</th>\n",
       "      <td>ac90ff16-24b4-46bc-ae72-2da847f9e6c9</td>\n",
       "      <td>4f91d2b6-bf42-4d3f-a8e8-acc3b07f647e</td>\n",
       "      <td>4ee0de5b-e27f-4d73-a3c6-52cf26e36c54</td>\n",
       "      <td>6d7a0545-0bca-4bf4-a306-931e57d8ffe2</td>\n",
       "      <td>3.88</td>\n",
       "      <td>0230f9af-e89f-4886-8322-52a38eaf991c</td>\n",
       "      <td>2021-11-27 10:06:43</td>\n",
       "      <td>3</td>\n",
       "      <td>6ca0f645-a16b-42b0-9dc2-2ae952c83591</td>\n",
       "      <td>True</td>\n",
       "    </tr>\n",
       "    <tr>\n",
       "      <th>2</th>\n",
       "      <td>fb5eaf0d-e72c-4523-b5c5-4d9c323cef5f</td>\n",
       "      <td>80f5b187-f6e6-40f2-9b6e-fe62b67049a8</td>\n",
       "      <td>d53234f4-1efb-4299-97c1-11658118cba5</td>\n",
       "      <td>716c02df-bd3a-41c9-b2be-86fb74ff3255</td>\n",
       "      <td>5.15</td>\n",
       "      <td>fbf93fbf-a935-436f-8516-8acb863e779f</td>\n",
       "      <td>2021-02-26 04:18:53</td>\n",
       "      <td>4</td>\n",
       "      <td>6ca0f645-a16b-42b0-9dc2-2ae952c83591</td>\n",
       "      <td>True</td>\n",
       "    </tr>\n",
       "    <tr>\n",
       "      <th>3</th>\n",
       "      <td>bbf89dcb-7fbd-439d-9a7d-36ef7a1c2aa3</td>\n",
       "      <td>02b2b662-1b39-4d91-9417-dddc9451d8e1</td>\n",
       "      <td>19e4db13-d854-4913-a8ca-3612ee1a6071</td>\n",
       "      <td>b7bd5204-2976-4eb0-ab71-508a848bc325</td>\n",
       "      <td>6.50</td>\n",
       "      <td>f7a2adb8-44d7-4408-a2a9-3a593fc6d626</td>\n",
       "      <td>2021-11-27 02:08:02</td>\n",
       "      <td>9</td>\n",
       "      <td>8bd4c7be-fe87-45ad-990d-d131cd3d9c77</td>\n",
       "      <td>False</td>\n",
       "    </tr>\n",
       "    <tr>\n",
       "      <th>4</th>\n",
       "      <td>4c613ec6-fa6f-47e8-b4ab-658e2f6a644d</td>\n",
       "      <td>06c496ee-e884-42f9-ba39-010a66ed5296</td>\n",
       "      <td>b5b679a5-e769-4d95-82a6-f75e439b1ef9</td>\n",
       "      <td>17dab81c-6180-4a4b-b539-91978a726cfd</td>\n",
       "      <td>4.38</td>\n",
       "      <td>d9f9538f-1b7e-4f35-805d-924b309d75d8</td>\n",
       "      <td>2021-11-17 11:06:32</td>\n",
       "      <td>14</td>\n",
       "      <td>2609b6b5-3a08-451e-bce5-75fe506559d2</td>\n",
       "      <td>False</td>\n",
       "    </tr>\n",
       "    <tr>\n",
       "      <th>...</th>\n",
       "      <td>...</td>\n",
       "      <td>...</td>\n",
       "      <td>...</td>\n",
       "      <td>...</td>\n",
       "      <td>...</td>\n",
       "      <td>...</td>\n",
       "      <td>...</td>\n",
       "      <td>...</td>\n",
       "      <td>...</td>\n",
       "      <td>...</td>\n",
       "    </tr>\n",
       "    <tr>\n",
       "      <th>4995</th>\n",
       "      <td>f6fec2d4-77d6-46ea-b41c-d97154bd5238</td>\n",
       "      <td>e339ba35-ffef-403b-a17c-dd218fdbb915</td>\n",
       "      <td>19e4db13-d854-4913-a8ca-3612ee1a6071</td>\n",
       "      <td>ff1a548b-e307-474c-a405-6370ca1a0639</td>\n",
       "      <td>3.82</td>\n",
       "      <td>4db64146-3864-40d1-9908-faa3f4a04a80</td>\n",
       "      <td>2021-11-08 04:21:06</td>\n",
       "      <td>2</td>\n",
       "      <td>6ca0f645-a16b-42b0-9dc2-2ae952c83591</td>\n",
       "      <td>False</td>\n",
       "    </tr>\n",
       "    <tr>\n",
       "      <th>4996</th>\n",
       "      <td>f90ef4f1-b5ab-431e-9fc8-cf7359138168</td>\n",
       "      <td>06c496ee-e884-42f9-ba39-010a66ed5296</td>\n",
       "      <td>8ff50feb-3b5d-4dd0-84b0-8409753bd166</td>\n",
       "      <td>08dda558-a151-45a2-8e43-1ba6f2891800</td>\n",
       "      <td>5.64</td>\n",
       "      <td>4bcc7557-3760-49e3-895a-f122d9d112f1</td>\n",
       "      <td>2021-09-11 23:29:23</td>\n",
       "      <td>18</td>\n",
       "      <td>66653b7c-b600-49b3-a58c-d1862e91d426</td>\n",
       "      <td>False</td>\n",
       "    </tr>\n",
       "    <tr>\n",
       "      <th>4997</th>\n",
       "      <td>ad00eac6-19d5-48f9-bed7-066b77546191</td>\n",
       "      <td>4f91d2b6-bf42-4d3f-a8e8-acc3b07f647e</td>\n",
       "      <td>e2bf5d12-edc2-47cb-b23f-1f4f7c1a2292</td>\n",
       "      <td>ff1a548b-e307-474c-a405-6370ca1a0639</td>\n",
       "      <td>4.72</td>\n",
       "      <td>0ef242cf-8c59-45d7-acfc-dadce146c907</td>\n",
       "      <td>2021-11-22 16:46:18</td>\n",
       "      <td>4</td>\n",
       "      <td>66653b7c-b600-49b3-a58c-d1862e91d426</td>\n",
       "      <td>False</td>\n",
       "    </tr>\n",
       "    <tr>\n",
       "      <th>4998</th>\n",
       "      <td>1100779d-e85f-4836-a154-3b4d543f910c</td>\n",
       "      <td>25e7fab9-abfb-4a74-a8cb-c3adbc6e3531</td>\n",
       "      <td>da2fc9b0-32d5-4a1b-8b40-2706eb133bf0</td>\n",
       "      <td>ace4c5e2-ef86-429a-aad3-23bef7a1c9f1</td>\n",
       "      <td>6.44</td>\n",
       "      <td>9b8274ec-0e8f-47fb-8b16-07e1ec115798</td>\n",
       "      <td>2021-07-09 18:02:48</td>\n",
       "      <td>8</td>\n",
       "      <td>2609b6b5-3a08-451e-bce5-75fe506559d2</td>\n",
       "      <td>False</td>\n",
       "    </tr>\n",
       "    <tr>\n",
       "      <th>4999</th>\n",
       "      <td>9708288c-b868-4d01-9d81-d4b2aa0de750</td>\n",
       "      <td>4712e9e6-bef1-4646-b21e-ca5336901bf9</td>\n",
       "      <td>19e4db13-d854-4913-a8ca-3612ee1a6071</td>\n",
       "      <td>b7bd5204-2976-4eb0-ab71-508a848bc325</td>\n",
       "      <td>2.72</td>\n",
       "      <td>7884bd3e-d48f-4afd-87dd-2a7552c04480</td>\n",
       "      <td>2021-10-13 06:47:46</td>\n",
       "      <td>19</td>\n",
       "      <td>2609b6b5-3a08-451e-bce5-75fe506559d2</td>\n",
       "      <td>False</td>\n",
       "    </tr>\n",
       "  </tbody>\n",
       "</table>\n",
       "<p>5000 rows × 10 columns</p>\n",
       "</div>"
      ],
      "text/plain": [
       "                                        id  \\\n",
       "0     6e884071-8c0e-4782-aa40-e0fd78243360   \n",
       "1     ac90ff16-24b4-46bc-ae72-2da847f9e6c9   \n",
       "2     fb5eaf0d-e72c-4523-b5c5-4d9c323cef5f   \n",
       "3     bbf89dcb-7fbd-439d-9a7d-36ef7a1c2aa3   \n",
       "4     4c613ec6-fa6f-47e8-b4ab-658e2f6a644d   \n",
       "...                                    ...   \n",
       "4995  f6fec2d4-77d6-46ea-b41c-d97154bd5238   \n",
       "4996  f90ef4f1-b5ab-431e-9fc8-cf7359138168   \n",
       "4997  ad00eac6-19d5-48f9-bed7-066b77546191   \n",
       "4998  1100779d-e85f-4836-a154-3b4d543f910c   \n",
       "4999  9708288c-b868-4d01-9d81-d4b2aa0de750   \n",
       "\n",
       "                              attribute_id  \\\n",
       "0     4712e9e6-bef1-4646-b21e-ca5336901bf9   \n",
       "1     4f91d2b6-bf42-4d3f-a8e8-acc3b07f647e   \n",
       "2     80f5b187-f6e6-40f2-9b6e-fe62b67049a8   \n",
       "3     02b2b662-1b39-4d91-9417-dddc9451d8e1   \n",
       "4     06c496ee-e884-42f9-ba39-010a66ed5296   \n",
       "...                                    ...   \n",
       "4995  e339ba35-ffef-403b-a17c-dd218fdbb915   \n",
       "4996  06c496ee-e884-42f9-ba39-010a66ed5296   \n",
       "4997  4f91d2b6-bf42-4d3f-a8e8-acc3b07f647e   \n",
       "4998  25e7fab9-abfb-4a74-a8cb-c3adbc6e3531   \n",
       "4999  4712e9e6-bef1-4646-b21e-ca5336901bf9   \n",
       "\n",
       "                                  music_id  \\\n",
       "0     4ee0de5b-e27f-4d73-a3c6-52cf26e36c54   \n",
       "1     4ee0de5b-e27f-4d73-a3c6-52cf26e36c54   \n",
       "2     d53234f4-1efb-4299-97c1-11658118cba5   \n",
       "3     19e4db13-d854-4913-a8ca-3612ee1a6071   \n",
       "4     b5b679a5-e769-4d95-82a6-f75e439b1ef9   \n",
       "...                                    ...   \n",
       "4995  19e4db13-d854-4913-a8ca-3612ee1a6071   \n",
       "4996  8ff50feb-3b5d-4dd0-84b0-8409753bd166   \n",
       "4997  e2bf5d12-edc2-47cb-b23f-1f4f7c1a2292   \n",
       "4998  da2fc9b0-32d5-4a1b-8b40-2706eb133bf0   \n",
       "4999  19e4db13-d854-4913-a8ca-3612ee1a6071   \n",
       "\n",
       "                              animation_id  duration  \\\n",
       "0     17dab81c-6180-4a4b-b539-91978a726cfd      5.34   \n",
       "1     6d7a0545-0bca-4bf4-a306-931e57d8ffe2      3.88   \n",
       "2     716c02df-bd3a-41c9-b2be-86fb74ff3255      5.15   \n",
       "3     b7bd5204-2976-4eb0-ab71-508a848bc325      6.50   \n",
       "4     17dab81c-6180-4a4b-b539-91978a726cfd      4.38   \n",
       "...                                    ...       ...   \n",
       "4995  ff1a548b-e307-474c-a405-6370ca1a0639      3.82   \n",
       "4996  08dda558-a151-45a2-8e43-1ba6f2891800      5.64   \n",
       "4997  ff1a548b-e307-474c-a405-6370ca1a0639      4.72   \n",
       "4998  ace4c5e2-ef86-429a-aad3-23bef7a1c9f1      6.44   \n",
       "4999  b7bd5204-2976-4eb0-ab71-508a848bc325      2.72   \n",
       "\n",
       "                                   creator           created_at  num_shares  \\\n",
       "0     73ec1ac2-d148-45ac-94a8-9bdff51730d7  2021-08-04 10:42:39          12   \n",
       "1     0230f9af-e89f-4886-8322-52a38eaf991c  2021-11-27 10:06:43           3   \n",
       "2     fbf93fbf-a935-436f-8516-8acb863e779f  2021-02-26 04:18:53           4   \n",
       "3     f7a2adb8-44d7-4408-a2a9-3a593fc6d626  2021-11-27 02:08:02           9   \n",
       "4     d9f9538f-1b7e-4f35-805d-924b309d75d8  2021-11-17 11:06:32          14   \n",
       "...                                    ...                  ...         ...   \n",
       "4995  4db64146-3864-40d1-9908-faa3f4a04a80  2021-11-08 04:21:06           2   \n",
       "4996  4bcc7557-3760-49e3-895a-f122d9d112f1  2021-09-11 23:29:23          18   \n",
       "4997  0ef242cf-8c59-45d7-acfc-dadce146c907  2021-11-22 16:46:18           4   \n",
       "4998  9b8274ec-0e8f-47fb-8b16-07e1ec115798  2021-07-09 18:02:48           8   \n",
       "4999  7884bd3e-d48f-4afd-87dd-2a7552c04480  2021-10-13 06:47:46          19   \n",
       "\n",
       "                                   game_id  is_ar  \n",
       "0     8bd4c7be-fe87-45ad-990d-d131cd3d9c77   True  \n",
       "1     6ca0f645-a16b-42b0-9dc2-2ae952c83591   True  \n",
       "2     6ca0f645-a16b-42b0-9dc2-2ae952c83591   True  \n",
       "3     8bd4c7be-fe87-45ad-990d-d131cd3d9c77  False  \n",
       "4     2609b6b5-3a08-451e-bce5-75fe506559d2  False  \n",
       "...                                    ...    ...  \n",
       "4995  6ca0f645-a16b-42b0-9dc2-2ae952c83591  False  \n",
       "4996  66653b7c-b600-49b3-a58c-d1862e91d426  False  \n",
       "4997  66653b7c-b600-49b3-a58c-d1862e91d426  False  \n",
       "4998  2609b6b5-3a08-451e-bce5-75fe506559d2  False  \n",
       "4999  2609b6b5-3a08-451e-bce5-75fe506559d2  False  \n",
       "\n",
       "[5000 rows x 10 columns]"
      ]
     },
     "execution_count": 4,
     "metadata": {},
     "output_type": "execute_result"
    }
   ],
   "source": [
    "# checking videos\n",
    "\n",
    "videos = pd.read_csv('videos.csv', index_col=0)\n",
    "videos"
   ]
  },
  {
   "cell_type": "code",
   "execution_count": 5,
   "id": "319b2500",
   "metadata": {},
   "outputs": [
    {
     "data": {
      "text/plain": [
       "month\n",
       "1          16\n",
       "2          45\n",
       "3         109\n",
       "4         150\n",
       "5         209\n",
       "6         231\n",
       "7         364\n",
       "8         453\n",
       "9         595\n",
       "10        804\n",
       "11       1108\n",
       "12        916\n",
       "dtype: int64"
      ]
     },
     "execution_count": 5,
     "metadata": {},
     "output_type": "execute_result"
    }
   ],
   "source": [
    "# separating out year, month, and month_year\n",
    "\n",
    "# converting created_at feature to datetime for ease of use\n",
    "videos['dateTime'] = pd.DatetimeIndex(videos['created_at'])\n",
    "\n",
    "# get the year and month to see what the breakdown is by year\n",
    "# videos['year'] = videos['dateTime'].dt.year\n",
    "videos['month'] = videos['dateTime'].dt.month\n",
    "# videos['m_y'] = videos['datetime'].dt.strftime('%m-%Y')\n",
    "\n",
    "# number of new videos per month broken down by year\n",
    "videos[['month']].value_counts().sort_index()\n",
    "\n",
    "# shows relatively increasing trend"
   ]
  },
  {
   "cell_type": "code",
   "execution_count": 6,
   "id": "8022dcbd",
   "metadata": {
    "scrolled": false
   },
   "outputs": [
    {
     "name": "stdout",
     "output_type": "stream",
     "text": [
      "There are 5000 unique IDs in id\n",
      "\n",
      "There are 11 unique IDs in attribute_id\n",
      "\n",
      "There are 10 unique IDs in music_id\n",
      "\n",
      "There are 15 unique IDs in animation_id\n",
      "\n",
      "There are 491 unique IDs in duration\n",
      "\n",
      "There are 992 unique IDs in creator\n",
      "\n",
      "There are 5000 unique IDs in created_at\n",
      "\n",
      "There are 21 unique IDs in num_shares\n",
      "\n",
      "There are 5 unique IDs in game_id\n",
      "\n",
      "There are 2 unique IDs in is_ar\n",
      "\n",
      "There are 5000 unique IDs in dateTime\n",
      "\n",
      "There are 12 unique IDs in month\n",
      "\n"
     ]
    }
   ],
   "source": [
    "for i in range(len(videos.columns)):\n",
    "    print(f'There are {videos[videos.columns[i]].nunique()} unique IDs in {videos.columns[i]}\\n')"
   ]
  },
  {
   "cell_type": "code",
   "execution_count": 7,
   "id": "4568614b",
   "metadata": {},
   "outputs": [],
   "source": [
    "v_sub = videos[['attribute_id', 'music_id', 'animation_id', 'creator', 'game_id', 'is_ar', 'month']]"
   ]
  },
  {
   "cell_type": "code",
   "execution_count": 8,
   "id": "d31bd031",
   "metadata": {},
   "outputs": [
    {
     "data": {
      "text/plain": [
       "25e7fab9-abfb-4a74-a8cb-c3adbc6e3531    483\n",
       "c3328117-4129-4d8b-8250-9479e9c6a389    474\n",
       "7ef48c9e-776d-4d24-8c2b-e3675b295767    466\n",
       "80f5b187-f6e6-40f2-9b6e-fe62b67049a8    465\n",
       "4f91d2b6-bf42-4d3f-a8e8-acc3b07f647e    463\n",
       "4712e9e6-bef1-4646-b21e-ca5336901bf9    460\n",
       "06c496ee-e884-42f9-ba39-010a66ed5296    447\n",
       "02b2b662-1b39-4d91-9417-dddc9451d8e1    442\n",
       "3390e253-7815-4a3c-8169-fd2ab532e166    439\n",
       "e339ba35-ffef-403b-a17c-dd218fdbb915    435\n",
       "30fa7949-1cb6-44b1-9c7b-42c7421fc504    426\n",
       "Name: attribute_id, dtype: int64"
      ]
     },
     "execution_count": 8,
     "metadata": {},
     "output_type": "execute_result"
    }
   ],
   "source": [
    "v_sub['attribute_id'].value_counts()\n",
    "# there may be attributes that are more popular\n",
    "\n",
    "# should check w months"
   ]
  },
  {
   "cell_type": "code",
   "execution_count": 9,
   "id": "91946d9a",
   "metadata": {},
   "outputs": [
    {
     "data": {
      "text/plain": [
       "c3721b09-6896-465a-8e13-4d73efd06874    550\n",
       "b5b679a5-e769-4d95-82a6-f75e439b1ef9    548\n",
       "19e4db13-d854-4913-a8ca-3612ee1a6071    512\n",
       "8ff50feb-3b5d-4dd0-84b0-8409753bd166    509\n",
       "da2fc9b0-32d5-4a1b-8b40-2706eb133bf0    491\n",
       "3de11516-8627-47c3-98ab-265b429cac91    488\n",
       "d53234f4-1efb-4299-97c1-11658118cba5    481\n",
       "4ee0de5b-e27f-4d73-a3c6-52cf26e36c54    475\n",
       "e2bf5d12-edc2-47cb-b23f-1f4f7c1a2292    474\n",
       "1f80192e-3bff-41b8-b272-7062b9d7b6de    472\n",
       "Name: music_id, dtype: int64"
      ]
     },
     "execution_count": 9,
     "metadata": {},
     "output_type": "execute_result"
    }
   ],
   "source": [
    "v_sub['music_id'].value_counts()\n",
    "# there may be songs that are more popular\n",
    "\n",
    "# should check w months"
   ]
  },
  {
   "cell_type": "code",
   "execution_count": 10,
   "id": "c82b3900",
   "metadata": {},
   "outputs": [
    {
     "data": {
      "text/plain": [
       "d167d0af-a662-48ad-bb39-5aa306fc8141    359\n",
       "6d7a0545-0bca-4bf4-a306-931e57d8ffe2    355\n",
       "435320a3-8d3d-4a9d-b76b-2f2e268f7619    346\n",
       "4cfc4892-2c7e-46e3-8399-5b138285d394    345\n",
       "716c02df-bd3a-41c9-b2be-86fb74ff3255    340\n",
       "542d7532-e88a-48ca-826f-c11f0f615bc4    340\n",
       "b5349df0-23dd-4973-b47d-ae5df5a4e247    340\n",
       "b7bd5204-2976-4eb0-ab71-508a848bc325    337\n",
       "ace4c5e2-ef86-429a-aad3-23bef7a1c9f1    335\n",
       "ff1a548b-e307-474c-a405-6370ca1a0639    333\n",
       "17dab81c-6180-4a4b-b539-91978a726cfd    330\n",
       "2029f213-1719-4108-8125-25d465cf475d    325\n",
       "ab5dc9f1-deb4-44d4-88ff-62e473a060f4    315\n",
       "7410fff9-7a21-4c93-8a54-a6f4c9e55b04    309\n",
       "08dda558-a151-45a2-8e43-1ba6f2891800    291\n",
       "Name: animation_id, dtype: int64"
      ]
     },
     "execution_count": 10,
     "metadata": {},
     "output_type": "execute_result"
    }
   ],
   "source": [
    "v_sub['animation_id'].value_counts()"
   ]
  },
  {
   "cell_type": "code",
   "execution_count": 11,
   "id": "8cd74e16",
   "metadata": {
    "scrolled": false
   },
   "outputs": [
    {
     "data": {
      "image/png": "[encoded data removed]",
      "text/plain": [
       "<Figure size 1080x576 with 1 Axes>"
      ]
     },
     "metadata": {
      "needs_background": "light"
     },
     "output_type": "display_data"
    }
   ],
   "source": [
    "# unstacked bar plot of videos where ar is used and not used\n",
    "\n",
    "v_sub.groupby(['is_ar', 'month'])['month'].count().unstack('is_ar').plot(kind='bar', figsize=(15,8))\n",
    "plt.title('Comparison of AR Videos per Month in 2021')\n",
    "plt.ylabel('Number of Videos')\n",
    "plt.show()\n",
    "\n",
    "# we see here that both seem to be increasing"
   ]
  },
  {
   "cell_type": "code",
   "execution_count": 12,
   "id": "ae766b01",
   "metadata": {},
   "outputs": [
    {
     "data": {
      "text/plain": [
       "1       7\n",
       "2      21\n",
       "3      52\n",
       "4      84\n",
       "5      88\n",
       "6     118\n",
       "7     180\n",
       "8     225\n",
       "9     307\n",
       "10    408\n",
       "11    563\n",
       "12    475\n",
       "Name: month, dtype: int64"
      ]
     },
     "execution_count": 12,
     "metadata": {},
     "output_type": "execute_result"
    }
   ],
   "source": [
    "v_sub[v_sub['is_ar']==True]['month'].value_counts().sort_index()"
   ]
  },
  {
   "cell_type": "code",
   "execution_count": 13,
   "id": "c77ebd2b",
   "metadata": {},
   "outputs": [
    {
     "data": {
      "text/plain": [
       "Text(0, 0.5, 'Number of New AR Videos')"
      ]
     },
     "execution_count": 13,
     "metadata": {},
     "output_type": "execute_result"
    },
    {
     "data": {
      "image/png": "[encoded data removed]",
      "text/plain": [
       "<Figure size 432x288 with 1 Axes>"
      ]
     },
     "metadata": {
      "needs_background": "light"
     },
     "output_type": "display_data"
    }
   ],
   "source": [
    "# A line graph to see the time series graph \n",
    "\n",
    "months_list = list(range(1, 13))\n",
    "\n",
    "# get the count of new ar videos by month sorting by index\n",
    "ar_true_count = v_sub[v_sub['is_ar']==True]['month'].value_counts().sort_index()\n",
    "\n",
    "# creating a list from above to pass into mk test\n",
    "ar_true_list = list(ar_true_count)\n",
    "\n",
    "# plot the time-series graph\n",
    "plt.plot(months_list, ar_true_list)\n",
    "plt.title('New AR Videos over 1 Year')\n",
    "plt.xlabel('Months')\n",
    "plt.ylabel('Number of New AR Videos')"
   ]
  },
  {
   "cell_type": "code",
   "execution_count": 14,
   "id": "f2a433bc",
   "metadata": {
    "scrolled": true
   },
   "outputs": [
    {
     "data": {
      "text/html": [
       "<div>\n",
       "<style scoped>\n",
       "    .dataframe tbody tr th:only-of-type {\n",
       "        vertical-align: middle;\n",
       "    }\n",
       "\n",
       "    .dataframe tbody tr th {\n",
       "        vertical-align: top;\n",
       "    }\n",
       "\n",
       "    .dataframe thead th {\n",
       "        text-align: right;\n",
       "    }\n",
       "</style>\n",
       "<table border=\"1\" class=\"dataframe\">\n",
       "  <thead>\n",
       "    <tr style=\"text-align: right;\">\n",
       "      <th></th>\n",
       "      <th>Statistics</th>\n",
       "    </tr>\n",
       "    <tr>\n",
       "      <th>Label</th>\n",
       "      <th></th>\n",
       "    </tr>\n",
       "  </thead>\n",
       "  <tbody>\n",
       "    <tr>\n",
       "      <th>trend</th>\n",
       "      <td>increasing</td>\n",
       "    </tr>\n",
       "    <tr>\n",
       "      <th>h</th>\n",
       "      <td>True</td>\n",
       "    </tr>\n",
       "    <tr>\n",
       "      <th>p</th>\n",
       "      <td>0.000016</td>\n",
       "    </tr>\n",
       "    <tr>\n",
       "      <th>z</th>\n",
       "      <td>4.320071</td>\n",
       "    </tr>\n",
       "    <tr>\n",
       "      <th>Tau</th>\n",
       "      <td>0.969697</td>\n",
       "    </tr>\n",
       "    <tr>\n",
       "      <th>s</th>\n",
       "      <td>64.0</td>\n",
       "    </tr>\n",
       "    <tr>\n",
       "      <th>var_s</th>\n",
       "      <td>212.666667</td>\n",
       "    </tr>\n",
       "    <tr>\n",
       "      <th>slope</th>\n",
       "      <td>45.533333</td>\n",
       "    </tr>\n",
       "    <tr>\n",
       "      <th>intercept</th>\n",
       "      <td>-101.433333</td>\n",
       "    </tr>\n",
       "  </tbody>\n",
       "</table>\n",
       "</div>"
      ],
      "text/plain": [
       "           Statistics\n",
       "Label                \n",
       "trend      increasing\n",
       "h                True\n",
       "p            0.000016\n",
       "z            4.320071\n",
       "Tau          0.969697\n",
       "s                64.0\n",
       "var_s      212.666667\n",
       "slope       45.533333\n",
       "intercept -101.433333"
      ]
     },
     "execution_count": 14,
     "metadata": {},
     "output_type": "execute_result"
    }
   ],
   "source": [
    "# testing significance of possible trends using mann-kendall test\n",
    "\n",
    "import pymannkendall as mk\n",
    "\n",
    "# run the mk test\n",
    "df_ar_true = pd.DataFrame(mk.original_test(ar_true_list))\n",
    "\n",
    "# Creating a dataframe of the mk test stats for easy viewing\n",
    "mk_labels = ['trend', 'h', 'p', 'z', 'Tau', 's', 'var_s', 'slope', 'intercept']\n",
    "df_ar_true.columns = ['Statistics']\n",
    "df_ar_true['Label'] = mk_labels\n",
    "df_ar_true = df_ar_true.set_index('Label')\n",
    "df_ar_true"
   ]
  },
  {
   "cell_type": "code",
   "execution_count": 15,
   "id": "7ac02362",
   "metadata": {},
   "outputs": [
    {
     "data": {
      "text/plain": [
       "Text(0, 0.5, 'Number of New AR Videos')"
      ]
     },
     "execution_count": 15,
     "metadata": {},
     "output_type": "execute_result"
    },
    {
     "data": {
      "image/png": "[encoded data removed]",
      "text/plain": [
       "<Figure size 432x288 with 1 Axes>"
      ]
     },
     "metadata": {
      "needs_background": "light"
     },
     "output_type": "display_data"
    }
   ],
   "source": [
    "# A line graph to see the time series graph \n",
    "\n",
    "months_list = list(range(1, 13))\n",
    "\n",
    "# get the count of new non-ar videos by month sorting by index\n",
    "ar_false_count = v_sub[v_sub['is_ar']==False]['month'].value_counts().sort_index()\n",
    "\n",
    "# creating a list from above to pass into mk test\n",
    "ar_false_list = list(ar_false_count)\n",
    "\n",
    "# plot the time-series graph\n",
    "plt.plot(months_list, ar_false_list)\n",
    "plt.title('New Non-AR Videos over 1 Year')\n",
    "plt.xlabel('Months')\n",
    "plt.ylabel('Number of New AR Videos')"
   ]
  },
  {
   "cell_type": "code",
   "execution_count": 16,
   "id": "f2ef5a4e",
   "metadata": {},
   "outputs": [
    {
     "data": {
      "text/html": [
       "<div>\n",
       "<style scoped>\n",
       "    .dataframe tbody tr th:only-of-type {\n",
       "        vertical-align: middle;\n",
       "    }\n",
       "\n",
       "    .dataframe tbody tr th {\n",
       "        vertical-align: top;\n",
       "    }\n",
       "\n",
       "    .dataframe thead th {\n",
       "        text-align: right;\n",
       "    }\n",
       "</style>\n",
       "<table border=\"1\" class=\"dataframe\">\n",
       "  <thead>\n",
       "    <tr style=\"text-align: right;\">\n",
       "      <th></th>\n",
       "      <th>Statistics</th>\n",
       "    </tr>\n",
       "    <tr>\n",
       "      <th>Label</th>\n",
       "      <th></th>\n",
       "    </tr>\n",
       "  </thead>\n",
       "  <tbody>\n",
       "    <tr>\n",
       "      <th>trend</th>\n",
       "      <td>increasing</td>\n",
       "    </tr>\n",
       "    <tr>\n",
       "      <th>h</th>\n",
       "      <td>True</td>\n",
       "    </tr>\n",
       "    <tr>\n",
       "      <th>p</th>\n",
       "      <td>0.000029</td>\n",
       "    </tr>\n",
       "    <tr>\n",
       "      <th>z</th>\n",
       "      <td>4.182925</td>\n",
       "    </tr>\n",
       "    <tr>\n",
       "      <th>Tau</th>\n",
       "      <td>0.939394</td>\n",
       "    </tr>\n",
       "    <tr>\n",
       "      <th>s</th>\n",
       "      <td>62.0</td>\n",
       "    </tr>\n",
       "    <tr>\n",
       "      <th>var_s</th>\n",
       "      <td>212.666667</td>\n",
       "    </tr>\n",
       "    <tr>\n",
       "      <th>slope</th>\n",
       "      <td>42.833333</td>\n",
       "    </tr>\n",
       "    <tr>\n",
       "      <th>intercept</th>\n",
       "      <td>-83.083333</td>\n",
       "    </tr>\n",
       "  </tbody>\n",
       "</table>\n",
       "</div>"
      ],
      "text/plain": [
       "           Statistics\n",
       "Label                \n",
       "trend      increasing\n",
       "h                True\n",
       "p            0.000029\n",
       "z            4.182925\n",
       "Tau          0.939394\n",
       "s                62.0\n",
       "var_s      212.666667\n",
       "slope       42.833333\n",
       "intercept  -83.083333"
      ]
     },
     "execution_count": 16,
     "metadata": {},
     "output_type": "execute_result"
    }
   ],
   "source": [
    "# testing significance of possible trends using mann-kendall test\n",
    "\n",
    "# run the mk test\n",
    "df_ar_false = pd.DataFrame(mk.original_test(ar_false_list))\n",
    "\n",
    "# Creating a dataframe of the mk test stats for easy viewing\n",
    "mk_labels = ['trend', 'h', 'p', 'z', 'Tau', 's', 'var_s', 'slope', 'intercept']\n",
    "df_ar_false.columns = ['Statistics']\n",
    "df_ar_false['Label'] = mk_labels\n",
    "df_ar_false = df_ar_false.set_index('Label')\n",
    "df_ar_false"
   ]
  },
  {
   "cell_type": "code",
   "execution_count": 17,
   "id": "7af64a7e",
   "metadata": {},
   "outputs": [],
   "source": [
    "# based on the above slopes, it seems that AR videos' growth may outpace non-AR growth slightly"
   ]
  },
  {
   "cell_type": "code",
   "execution_count": null,
   "id": "18a99e11",
   "metadata": {},
   "outputs": [],
   "source": []
  },
  {
   "cell_type": "code",
   "execution_count": null,
   "id": "b17ea1ba",
   "metadata": {},
   "outputs": [],
   "source": []
  },
  {
   "cell_type": "markdown",
   "id": "3bac68e7",
   "metadata": {},
   "source": [
    "### Watched Video"
   ]
  },
  {
   "cell_type": "code",
   "execution_count": 18,
   "id": "adbeded5",
   "metadata": {},
   "outputs": [
    {
     "data": {
      "text/html": [
       "<div>\n",
       "<style scoped>\n",
       "    .dataframe tbody tr th:only-of-type {\n",
       "        vertical-align: middle;\n",
       "    }\n",
       "\n",
       "    .dataframe tbody tr th {\n",
       "        vertical-align: top;\n",
       "    }\n",
       "\n",
       "    .dataframe thead th {\n",
       "        text-align: right;\n",
       "    }\n",
       "</style>\n",
       "<table border=\"1\" class=\"dataframe\">\n",
       "  <thead>\n",
       "    <tr style=\"text-align: right;\">\n",
       "      <th></th>\n",
       "      <th>coordinates</th>\n",
       "      <th>os</th>\n",
       "      <th>duration</th>\n",
       "      <th>videoId</th>\n",
       "      <th>userId</th>\n",
       "      <th>appVersion</th>\n",
       "      <th>dateTime</th>\n",
       "      <th>feedId</th>\n",
       "    </tr>\n",
       "  </thead>\n",
       "  <tbody>\n",
       "    <tr>\n",
       "      <th>0</th>\n",
       "      <td>(Decimal('14.439490'), Decimal('105.291233'))</td>\n",
       "      <td>iOS</td>\n",
       "      <td>3.95</td>\n",
       "      <td>722e110c-2f81-46aa-9c25-4d26fd77519f</td>\n",
       "      <td>317a2bc3-5f95-4d35-9a94-1f2f38424c4f</td>\n",
       "      <td>2.2.2</td>\n",
       "      <td>2021-08-04 09:39:07</td>\n",
       "      <td>30134b9e-1b79-43fb-b0c5-373af9237b2c</td>\n",
       "    </tr>\n",
       "    <tr>\n",
       "      <th>1</th>\n",
       "      <td>(Decimal('40.866935'), Decimal('-73.845013'))</td>\n",
       "      <td>iOS</td>\n",
       "      <td>5.95</td>\n",
       "      <td>cc10d153-37f9-42b5-8d78-2365908acf2b</td>\n",
       "      <td>db031c3d-69e4-4c06-91fe-e9be0a3c173c</td>\n",
       "      <td>2.2.1</td>\n",
       "      <td>2021-07-06 16:32:10</td>\n",
       "      <td>8078efe7-5bae-4528-9a66-b85904cc73ac</td>\n",
       "    </tr>\n",
       "    <tr>\n",
       "      <th>2</th>\n",
       "      <td>(Decimal('48.666850'), Decimal('9.359456'))</td>\n",
       "      <td>iOS</td>\n",
       "      <td>0.69</td>\n",
       "      <td>7f3f7fce-f2ec-4dfd-bac8-92dc7865a365</td>\n",
       "      <td>8fb18b66-f548-42a7-b394-c1be963cac29</td>\n",
       "      <td>2.2.0</td>\n",
       "      <td>2021-12-06 01:42:02</td>\n",
       "      <td>6894af29-56cc-4b4a-8ee6-be9b3cb3e7f1</td>\n",
       "    </tr>\n",
       "    <tr>\n",
       "      <th>3</th>\n",
       "      <td>(Decimal('5.172365'), Decimal('-74.439009'))</td>\n",
       "      <td>Android</td>\n",
       "      <td>2.81</td>\n",
       "      <td>8ffc47e3-32ce-4d24-a990-9baac556603b</td>\n",
       "      <td>960fb90e-eddc-478a-a64a-04b9dded3a05</td>\n",
       "      <td>2.1.2</td>\n",
       "      <td>2021-12-04 21:02:50</td>\n",
       "      <td>42568c8a-efbe-4293-81a3-513e33094ade</td>\n",
       "    </tr>\n",
       "    <tr>\n",
       "      <th>4</th>\n",
       "      <td>(Decimal('4.063707'), Decimal('9.606159'))</td>\n",
       "      <td>iOS</td>\n",
       "      <td>5.88</td>\n",
       "      <td>47e70477-7511-4bd0-801b-1651f951002f</td>\n",
       "      <td>1ce0c003-25e7-473f-8796-0fe04d6c275c</td>\n",
       "      <td>2.1.2</td>\n",
       "      <td>2021-11-28 16:12:39</td>\n",
       "      <td>582520b2-b30a-4ecb-b1b4-1806672fcfc4</td>\n",
       "    </tr>\n",
       "    <tr>\n",
       "      <th>...</th>\n",
       "      <td>...</td>\n",
       "      <td>...</td>\n",
       "      <td>...</td>\n",
       "      <td>...</td>\n",
       "      <td>...</td>\n",
       "      <td>...</td>\n",
       "      <td>...</td>\n",
       "      <td>...</td>\n",
       "    </tr>\n",
       "    <tr>\n",
       "      <th>49995</th>\n",
       "      <td>(Decimal('26.318764'), Decimal('68.257897'))</td>\n",
       "      <td>iOS</td>\n",
       "      <td>3.06</td>\n",
       "      <td>bfd82a3f-48ce-4fa2-9ac3-02f422936017</td>\n",
       "      <td>0230f9af-e89f-4886-8322-52a38eaf991c</td>\n",
       "      <td>2.2.4</td>\n",
       "      <td>2021-10-13 04:58:05</td>\n",
       "      <td>42568c8a-efbe-4293-81a3-513e33094ade</td>\n",
       "    </tr>\n",
       "    <tr>\n",
       "      <th>49996</th>\n",
       "      <td>(Decimal('8.891013'), Decimal('-13.246846'))</td>\n",
       "      <td>iOS</td>\n",
       "      <td>1.01</td>\n",
       "      <td>e4c54724-4b9b-4924-bd46-d1bcdf0a77d0</td>\n",
       "      <td>c240b902-021a-4c1b-885d-11e3b829f0e7</td>\n",
       "      <td>2.2.2</td>\n",
       "      <td>2021-10-17 04:29:19</td>\n",
       "      <td>6894af29-56cc-4b4a-8ee6-be9b3cb3e7f1</td>\n",
       "    </tr>\n",
       "    <tr>\n",
       "      <th>49997</th>\n",
       "      <td>(Decimal('13.362063'), Decimal('78.721593'))</td>\n",
       "      <td>iOS</td>\n",
       "      <td>5.66</td>\n",
       "      <td>396b12f5-b33e-436b-a59d-794b3c37662d</td>\n",
       "      <td>4ce5c56a-faa7-4cb5-bcff-38a4290fc688</td>\n",
       "      <td>2.2.4</td>\n",
       "      <td>2021-12-06 18:20:18</td>\n",
       "      <td>30134b9e-1b79-43fb-b0c5-373af9237b2c</td>\n",
       "    </tr>\n",
       "    <tr>\n",
       "      <th>49998</th>\n",
       "      <td>(Decimal('35.573808'), Decimal('-91.401677'))</td>\n",
       "      <td>iOS</td>\n",
       "      <td>0.63</td>\n",
       "      <td>f71851b1-cfb8-4459-aedc-d14c3e01d7ca</td>\n",
       "      <td>0ad99cde-6ca2-475e-88b8-ad81281c05ac</td>\n",
       "      <td>3.0.0</td>\n",
       "      <td>2021-11-23 10:05:22</td>\n",
       "      <td>30134b9e-1b79-43fb-b0c5-373af9237b2c</td>\n",
       "    </tr>\n",
       "    <tr>\n",
       "      <th>49999</th>\n",
       "      <td>(Decimal('51.271060'), Decimal('8.332273'))</td>\n",
       "      <td>Android</td>\n",
       "      <td>2.29</td>\n",
       "      <td>2f0de7bd-9bc5-4cc5-900e-b6a27ac78655</td>\n",
       "      <td>ab40ca1d-63a5-454e-8290-e535a51d2b90</td>\n",
       "      <td>2.1.0</td>\n",
       "      <td>2021-12-07 13:23:25</td>\n",
       "      <td>a8a04865-55d4-4de4-8141-b273b678299f</td>\n",
       "    </tr>\n",
       "  </tbody>\n",
       "</table>\n",
       "<p>50000 rows × 8 columns</p>\n",
       "</div>"
      ],
      "text/plain": [
       "                                         coordinates       os  duration  \\\n",
       "0      (Decimal('14.439490'), Decimal('105.291233'))      iOS      3.95   \n",
       "1      (Decimal('40.866935'), Decimal('-73.845013'))      iOS      5.95   \n",
       "2        (Decimal('48.666850'), Decimal('9.359456'))      iOS      0.69   \n",
       "3       (Decimal('5.172365'), Decimal('-74.439009'))  Android      2.81   \n",
       "4         (Decimal('4.063707'), Decimal('9.606159'))      iOS      5.88   \n",
       "...                                              ...      ...       ...   \n",
       "49995   (Decimal('26.318764'), Decimal('68.257897'))      iOS      3.06   \n",
       "49996   (Decimal('8.891013'), Decimal('-13.246846'))      iOS      1.01   \n",
       "49997   (Decimal('13.362063'), Decimal('78.721593'))      iOS      5.66   \n",
       "49998  (Decimal('35.573808'), Decimal('-91.401677'))      iOS      0.63   \n",
       "49999    (Decimal('51.271060'), Decimal('8.332273'))  Android      2.29   \n",
       "\n",
       "                                    videoId  \\\n",
       "0      722e110c-2f81-46aa-9c25-4d26fd77519f   \n",
       "1      cc10d153-37f9-42b5-8d78-2365908acf2b   \n",
       "2      7f3f7fce-f2ec-4dfd-bac8-92dc7865a365   \n",
       "3      8ffc47e3-32ce-4d24-a990-9baac556603b   \n",
       "4      47e70477-7511-4bd0-801b-1651f951002f   \n",
       "...                                     ...   \n",
       "49995  bfd82a3f-48ce-4fa2-9ac3-02f422936017   \n",
       "49996  e4c54724-4b9b-4924-bd46-d1bcdf0a77d0   \n",
       "49997  396b12f5-b33e-436b-a59d-794b3c37662d   \n",
       "49998  f71851b1-cfb8-4459-aedc-d14c3e01d7ca   \n",
       "49999  2f0de7bd-9bc5-4cc5-900e-b6a27ac78655   \n",
       "\n",
       "                                     userId appVersion             dateTime  \\\n",
       "0      317a2bc3-5f95-4d35-9a94-1f2f38424c4f      2.2.2  2021-08-04 09:39:07   \n",
       "1      db031c3d-69e4-4c06-91fe-e9be0a3c173c      2.2.1  2021-07-06 16:32:10   \n",
       "2      8fb18b66-f548-42a7-b394-c1be963cac29      2.2.0  2021-12-06 01:42:02   \n",
       "3      960fb90e-eddc-478a-a64a-04b9dded3a05      2.1.2  2021-12-04 21:02:50   \n",
       "4      1ce0c003-25e7-473f-8796-0fe04d6c275c      2.1.2  2021-11-28 16:12:39   \n",
       "...                                     ...        ...                  ...   \n",
       "49995  0230f9af-e89f-4886-8322-52a38eaf991c      2.2.4  2021-10-13 04:58:05   \n",
       "49996  c240b902-021a-4c1b-885d-11e3b829f0e7      2.2.2  2021-10-17 04:29:19   \n",
       "49997  4ce5c56a-faa7-4cb5-bcff-38a4290fc688      2.2.4  2021-12-06 18:20:18   \n",
       "49998  0ad99cde-6ca2-475e-88b8-ad81281c05ac      3.0.0  2021-11-23 10:05:22   \n",
       "49999  ab40ca1d-63a5-454e-8290-e535a51d2b90      2.1.0  2021-12-07 13:23:25   \n",
       "\n",
       "                                     feedId  \n",
       "0      30134b9e-1b79-43fb-b0c5-373af9237b2c  \n",
       "1      8078efe7-5bae-4528-9a66-b85904cc73ac  \n",
       "2      6894af29-56cc-4b4a-8ee6-be9b3cb3e7f1  \n",
       "3      42568c8a-efbe-4293-81a3-513e33094ade  \n",
       "4      582520b2-b30a-4ecb-b1b4-1806672fcfc4  \n",
       "...                                     ...  \n",
       "49995  42568c8a-efbe-4293-81a3-513e33094ade  \n",
       "49996  6894af29-56cc-4b4a-8ee6-be9b3cb3e7f1  \n",
       "49997  30134b9e-1b79-43fb-b0c5-373af9237b2c  \n",
       "49998  30134b9e-1b79-43fb-b0c5-373af9237b2c  \n",
       "49999  a8a04865-55d4-4de4-8141-b273b678299f  \n",
       "\n",
       "[50000 rows x 8 columns]"
      ]
     },
     "execution_count": 18,
     "metadata": {},
     "output_type": "execute_result"
    }
   ],
   "source": [
    "# checking videos\n",
    "\n",
    "watched = pd.read_csv('watchedVideo.csv', index_col=0)\n",
    "watched"
   ]
  },
  {
   "cell_type": "code",
   "execution_count": 19,
   "id": "d1c00a41",
   "metadata": {},
   "outputs": [
    {
     "data": {
      "text/plain": [
       "0      music\n",
       "1    fashion\n",
       "2     sports\n",
       "3      games\n",
       "4     travel\n",
       "5        fun\n",
       "6      jokes\n",
       "7       love\n",
       "8      dance\n",
       "9    beaches\n",
       "Name: name, dtype: object"
      ]
     },
     "execution_count": 19,
     "metadata": {},
     "output_type": "execute_result"
    }
   ],
   "source": [
    "feeds.name"
   ]
  },
  {
   "cell_type": "code",
   "execution_count": 20,
   "id": "47464e31",
   "metadata": {
    "scrolled": false
   },
   "outputs": [
    {
     "name": "stdout",
     "output_type": "stream",
     "text": [
      "The count of 27a87df4-da75-451f-b8f6-af9dd0a4ee00 is 4978\n",
      "The count of 42568c8a-efbe-4293-81a3-513e33094ade is 5116\n",
      "The count of 6894af29-56cc-4b4a-8ee6-be9b3cb3e7f1 is 5017\n",
      "The count of c9d59470-c4ee-43ff-831d-b52508c8d848 is 4989\n",
      "The count of 582520b2-b30a-4ecb-b1b4-1806672fcfc4 is 5104\n",
      "The count of a8a04865-55d4-4de4-8141-b273b678299f is 4974\n",
      "The count of 644a3cb6-e266-4757-9e96-a3ee049216fe is 4976\n",
      "The count of da6c201f-8e50-433c-b2ad-614e42fac047 is 4939\n",
      "The count of 8078efe7-5bae-4528-9a66-b85904cc73ac is 5012\n",
      "The count of 30134b9e-1b79-43fb-b0c5-373af9237b2c is 4895\n"
     ]
    }
   ],
   "source": [
    "# checking for any matches between feed id and other ids in videos db just in case\n",
    "# (would have preferred to use SQL join, but do not have a SQL database to use at this time)\n",
    "\n",
    "for i in range(0, len(feeds.id)):\n",
    "    \n",
    "    print(f'The count of {feeds.id[i]} is {np.sum(watched.feedId==feeds.id[i])}')"
   ]
  },
  {
   "cell_type": "code",
   "execution_count": 21,
   "id": "9c4c7d24",
   "metadata": {
    "scrolled": true
   },
   "outputs": [
    {
     "data": {
      "text/html": [
       "<div>\n",
       "<style scoped>\n",
       "    .dataframe tbody tr th:only-of-type {\n",
       "        vertical-align: middle;\n",
       "    }\n",
       "\n",
       "    .dataframe tbody tr th {\n",
       "        vertical-align: top;\n",
       "    }\n",
       "\n",
       "    .dataframe thead th {\n",
       "        text-align: right;\n",
       "    }\n",
       "</style>\n",
       "<table border=\"1\" class=\"dataframe\">\n",
       "  <thead>\n",
       "    <tr style=\"text-align: right;\">\n",
       "      <th></th>\n",
       "      <th>id</th>\n",
       "      <th>name</th>\n",
       "    </tr>\n",
       "  </thead>\n",
       "  <tbody>\n",
       "    <tr>\n",
       "      <th>0</th>\n",
       "      <td>27a87df4-da75-451f-b8f6-af9dd0a4ee00</td>\n",
       "      <td>music</td>\n",
       "    </tr>\n",
       "    <tr>\n",
       "      <th>1</th>\n",
       "      <td>42568c8a-efbe-4293-81a3-513e33094ade</td>\n",
       "      <td>fashion</td>\n",
       "    </tr>\n",
       "    <tr>\n",
       "      <th>2</th>\n",
       "      <td>6894af29-56cc-4b4a-8ee6-be9b3cb3e7f1</td>\n",
       "      <td>sports</td>\n",
       "    </tr>\n",
       "    <tr>\n",
       "      <th>3</th>\n",
       "      <td>c9d59470-c4ee-43ff-831d-b52508c8d848</td>\n",
       "      <td>games</td>\n",
       "    </tr>\n",
       "    <tr>\n",
       "      <th>4</th>\n",
       "      <td>582520b2-b30a-4ecb-b1b4-1806672fcfc4</td>\n",
       "      <td>travel</td>\n",
       "    </tr>\n",
       "    <tr>\n",
       "      <th>5</th>\n",
       "      <td>a8a04865-55d4-4de4-8141-b273b678299f</td>\n",
       "      <td>fun</td>\n",
       "    </tr>\n",
       "    <tr>\n",
       "      <th>6</th>\n",
       "      <td>644a3cb6-e266-4757-9e96-a3ee049216fe</td>\n",
       "      <td>jokes</td>\n",
       "    </tr>\n",
       "    <tr>\n",
       "      <th>7</th>\n",
       "      <td>da6c201f-8e50-433c-b2ad-614e42fac047</td>\n",
       "      <td>love</td>\n",
       "    </tr>\n",
       "    <tr>\n",
       "      <th>8</th>\n",
       "      <td>8078efe7-5bae-4528-9a66-b85904cc73ac</td>\n",
       "      <td>dance</td>\n",
       "    </tr>\n",
       "    <tr>\n",
       "      <th>9</th>\n",
       "      <td>30134b9e-1b79-43fb-b0c5-373af9237b2c</td>\n",
       "      <td>beaches</td>\n",
       "    </tr>\n",
       "  </tbody>\n",
       "</table>\n",
       "</div>"
      ],
      "text/plain": [
       "                                     id     name\n",
       "0  27a87df4-da75-451f-b8f6-af9dd0a4ee00    music\n",
       "1  42568c8a-efbe-4293-81a3-513e33094ade  fashion\n",
       "2  6894af29-56cc-4b4a-8ee6-be9b3cb3e7f1   sports\n",
       "3  c9d59470-c4ee-43ff-831d-b52508c8d848    games\n",
       "4  582520b2-b30a-4ecb-b1b4-1806672fcfc4   travel\n",
       "5  a8a04865-55d4-4de4-8141-b273b678299f      fun\n",
       "6  644a3cb6-e266-4757-9e96-a3ee049216fe    jokes\n",
       "7  da6c201f-8e50-433c-b2ad-614e42fac047     love\n",
       "8  8078efe7-5bae-4528-9a66-b85904cc73ac    dance\n",
       "9  30134b9e-1b79-43fb-b0c5-373af9237b2c  beaches"
      ]
     },
     "execution_count": 21,
     "metadata": {},
     "output_type": "execute_result"
    }
   ],
   "source": [
    "feeds"
   ]
  },
  {
   "cell_type": "code",
   "execution_count": 22,
   "id": "1814bf69",
   "metadata": {},
   "outputs": [],
   "source": [
    "# for i in range(len(feeds.id)):\n",
    "#     watched.loc[watched.feedId==feeds.id[i], 'feedId'] = feeds[feeds.id==feeds.id[i]]['name']\n",
    "\n",
    "# watched"
   ]
  },
  {
   "cell_type": "code",
   "execution_count": 23,
   "id": "124cfbff",
   "metadata": {},
   "outputs": [
    {
     "data": {
      "text/html": [
       "<div>\n",
       "<style scoped>\n",
       "    .dataframe tbody tr th:only-of-type {\n",
       "        vertical-align: middle;\n",
       "    }\n",
       "\n",
       "    .dataframe tbody tr th {\n",
       "        vertical-align: top;\n",
       "    }\n",
       "\n",
       "    .dataframe thead th {\n",
       "        text-align: right;\n",
       "    }\n",
       "</style>\n",
       "<table border=\"1\" class=\"dataframe\">\n",
       "  <thead>\n",
       "    <tr style=\"text-align: right;\">\n",
       "      <th></th>\n",
       "      <th>coordinates</th>\n",
       "      <th>os</th>\n",
       "      <th>duration</th>\n",
       "      <th>videoId</th>\n",
       "      <th>userId</th>\n",
       "      <th>appVersion</th>\n",
       "      <th>dateTime</th>\n",
       "      <th>feedId</th>\n",
       "    </tr>\n",
       "  </thead>\n",
       "  <tbody>\n",
       "    <tr>\n",
       "      <th>0</th>\n",
       "      <td>(Decimal('14.439490'), Decimal('105.291233'))</td>\n",
       "      <td>iOS</td>\n",
       "      <td>3.95</td>\n",
       "      <td>722e110c-2f81-46aa-9c25-4d26fd77519f</td>\n",
       "      <td>317a2bc3-5f95-4d35-9a94-1f2f38424c4f</td>\n",
       "      <td>2.2.2</td>\n",
       "      <td>2021-08-04 09:39:07</td>\n",
       "      <td>beaches</td>\n",
       "    </tr>\n",
       "    <tr>\n",
       "      <th>1</th>\n",
       "      <td>(Decimal('40.866935'), Decimal('-73.845013'))</td>\n",
       "      <td>iOS</td>\n",
       "      <td>5.95</td>\n",
       "      <td>cc10d153-37f9-42b5-8d78-2365908acf2b</td>\n",
       "      <td>db031c3d-69e4-4c06-91fe-e9be0a3c173c</td>\n",
       "      <td>2.2.1</td>\n",
       "      <td>2021-07-06 16:32:10</td>\n",
       "      <td>dance</td>\n",
       "    </tr>\n",
       "    <tr>\n",
       "      <th>2</th>\n",
       "      <td>(Decimal('48.666850'), Decimal('9.359456'))</td>\n",
       "      <td>iOS</td>\n",
       "      <td>0.69</td>\n",
       "      <td>7f3f7fce-f2ec-4dfd-bac8-92dc7865a365</td>\n",
       "      <td>8fb18b66-f548-42a7-b394-c1be963cac29</td>\n",
       "      <td>2.2.0</td>\n",
       "      <td>2021-12-06 01:42:02</td>\n",
       "      <td>sports</td>\n",
       "    </tr>\n",
       "    <tr>\n",
       "      <th>3</th>\n",
       "      <td>(Decimal('5.172365'), Decimal('-74.439009'))</td>\n",
       "      <td>Android</td>\n",
       "      <td>2.81</td>\n",
       "      <td>8ffc47e3-32ce-4d24-a990-9baac556603b</td>\n",
       "      <td>960fb90e-eddc-478a-a64a-04b9dded3a05</td>\n",
       "      <td>2.1.2</td>\n",
       "      <td>2021-12-04 21:02:50</td>\n",
       "      <td>fashion</td>\n",
       "    </tr>\n",
       "    <tr>\n",
       "      <th>4</th>\n",
       "      <td>(Decimal('4.063707'), Decimal('9.606159'))</td>\n",
       "      <td>iOS</td>\n",
       "      <td>5.88</td>\n",
       "      <td>47e70477-7511-4bd0-801b-1651f951002f</td>\n",
       "      <td>1ce0c003-25e7-473f-8796-0fe04d6c275c</td>\n",
       "      <td>2.1.2</td>\n",
       "      <td>2021-11-28 16:12:39</td>\n",
       "      <td>travel</td>\n",
       "    </tr>\n",
       "    <tr>\n",
       "      <th>...</th>\n",
       "      <td>...</td>\n",
       "      <td>...</td>\n",
       "      <td>...</td>\n",
       "      <td>...</td>\n",
       "      <td>...</td>\n",
       "      <td>...</td>\n",
       "      <td>...</td>\n",
       "      <td>...</td>\n",
       "    </tr>\n",
       "    <tr>\n",
       "      <th>49995</th>\n",
       "      <td>(Decimal('26.318764'), Decimal('68.257897'))</td>\n",
       "      <td>iOS</td>\n",
       "      <td>3.06</td>\n",
       "      <td>bfd82a3f-48ce-4fa2-9ac3-02f422936017</td>\n",
       "      <td>0230f9af-e89f-4886-8322-52a38eaf991c</td>\n",
       "      <td>2.2.4</td>\n",
       "      <td>2021-10-13 04:58:05</td>\n",
       "      <td>fashion</td>\n",
       "    </tr>\n",
       "    <tr>\n",
       "      <th>49996</th>\n",
       "      <td>(Decimal('8.891013'), Decimal('-13.246846'))</td>\n",
       "      <td>iOS</td>\n",
       "      <td>1.01</td>\n",
       "      <td>e4c54724-4b9b-4924-bd46-d1bcdf0a77d0</td>\n",
       "      <td>c240b902-021a-4c1b-885d-11e3b829f0e7</td>\n",
       "      <td>2.2.2</td>\n",
       "      <td>2021-10-17 04:29:19</td>\n",
       "      <td>sports</td>\n",
       "    </tr>\n",
       "    <tr>\n",
       "      <th>49997</th>\n",
       "      <td>(Decimal('13.362063'), Decimal('78.721593'))</td>\n",
       "      <td>iOS</td>\n",
       "      <td>5.66</td>\n",
       "      <td>396b12f5-b33e-436b-a59d-794b3c37662d</td>\n",
       "      <td>4ce5c56a-faa7-4cb5-bcff-38a4290fc688</td>\n",
       "      <td>2.2.4</td>\n",
       "      <td>2021-12-06 18:20:18</td>\n",
       "      <td>beaches</td>\n",
       "    </tr>\n",
       "    <tr>\n",
       "      <th>49998</th>\n",
       "      <td>(Decimal('35.573808'), Decimal('-91.401677'))</td>\n",
       "      <td>iOS</td>\n",
       "      <td>0.63</td>\n",
       "      <td>f71851b1-cfb8-4459-aedc-d14c3e01d7ca</td>\n",
       "      <td>0ad99cde-6ca2-475e-88b8-ad81281c05ac</td>\n",
       "      <td>3.0.0</td>\n",
       "      <td>2021-11-23 10:05:22</td>\n",
       "      <td>beaches</td>\n",
       "    </tr>\n",
       "    <tr>\n",
       "      <th>49999</th>\n",
       "      <td>(Decimal('51.271060'), Decimal('8.332273'))</td>\n",
       "      <td>Android</td>\n",
       "      <td>2.29</td>\n",
       "      <td>2f0de7bd-9bc5-4cc5-900e-b6a27ac78655</td>\n",
       "      <td>ab40ca1d-63a5-454e-8290-e535a51d2b90</td>\n",
       "      <td>2.1.0</td>\n",
       "      <td>2021-12-07 13:23:25</td>\n",
       "      <td>fun</td>\n",
       "    </tr>\n",
       "  </tbody>\n",
       "</table>\n",
       "<p>50000 rows × 8 columns</p>\n",
       "</div>"
      ],
      "text/plain": [
       "                                         coordinates       os  duration  \\\n",
       "0      (Decimal('14.439490'), Decimal('105.291233'))      iOS      3.95   \n",
       "1      (Decimal('40.866935'), Decimal('-73.845013'))      iOS      5.95   \n",
       "2        (Decimal('48.666850'), Decimal('9.359456'))      iOS      0.69   \n",
       "3       (Decimal('5.172365'), Decimal('-74.439009'))  Android      2.81   \n",
       "4         (Decimal('4.063707'), Decimal('9.606159'))      iOS      5.88   \n",
       "...                                              ...      ...       ...   \n",
       "49995   (Decimal('26.318764'), Decimal('68.257897'))      iOS      3.06   \n",
       "49996   (Decimal('8.891013'), Decimal('-13.246846'))      iOS      1.01   \n",
       "49997   (Decimal('13.362063'), Decimal('78.721593'))      iOS      5.66   \n",
       "49998  (Decimal('35.573808'), Decimal('-91.401677'))      iOS      0.63   \n",
       "49999    (Decimal('51.271060'), Decimal('8.332273'))  Android      2.29   \n",
       "\n",
       "                                    videoId  \\\n",
       "0      722e110c-2f81-46aa-9c25-4d26fd77519f   \n",
       "1      cc10d153-37f9-42b5-8d78-2365908acf2b   \n",
       "2      7f3f7fce-f2ec-4dfd-bac8-92dc7865a365   \n",
       "3      8ffc47e3-32ce-4d24-a990-9baac556603b   \n",
       "4      47e70477-7511-4bd0-801b-1651f951002f   \n",
       "...                                     ...   \n",
       "49995  bfd82a3f-48ce-4fa2-9ac3-02f422936017   \n",
       "49996  e4c54724-4b9b-4924-bd46-d1bcdf0a77d0   \n",
       "49997  396b12f5-b33e-436b-a59d-794b3c37662d   \n",
       "49998  f71851b1-cfb8-4459-aedc-d14c3e01d7ca   \n",
       "49999  2f0de7bd-9bc5-4cc5-900e-b6a27ac78655   \n",
       "\n",
       "                                     userId appVersion             dateTime  \\\n",
       "0      317a2bc3-5f95-4d35-9a94-1f2f38424c4f      2.2.2  2021-08-04 09:39:07   \n",
       "1      db031c3d-69e4-4c06-91fe-e9be0a3c173c      2.2.1  2021-07-06 16:32:10   \n",
       "2      8fb18b66-f548-42a7-b394-c1be963cac29      2.2.0  2021-12-06 01:42:02   \n",
       "3      960fb90e-eddc-478a-a64a-04b9dded3a05      2.1.2  2021-12-04 21:02:50   \n",
       "4      1ce0c003-25e7-473f-8796-0fe04d6c275c      2.1.2  2021-11-28 16:12:39   \n",
       "...                                     ...        ...                  ...   \n",
       "49995  0230f9af-e89f-4886-8322-52a38eaf991c      2.2.4  2021-10-13 04:58:05   \n",
       "49996  c240b902-021a-4c1b-885d-11e3b829f0e7      2.2.2  2021-10-17 04:29:19   \n",
       "49997  4ce5c56a-faa7-4cb5-bcff-38a4290fc688      2.2.4  2021-12-06 18:20:18   \n",
       "49998  0ad99cde-6ca2-475e-88b8-ad81281c05ac      3.0.0  2021-11-23 10:05:22   \n",
       "49999  ab40ca1d-63a5-454e-8290-e535a51d2b90      2.1.0  2021-12-07 13:23:25   \n",
       "\n",
       "        feedId  \n",
       "0      beaches  \n",
       "1        dance  \n",
       "2       sports  \n",
       "3      fashion  \n",
       "4       travel  \n",
       "...        ...  \n",
       "49995  fashion  \n",
       "49996   sports  \n",
       "49997  beaches  \n",
       "49998  beaches  \n",
       "49999      fun  \n",
       "\n",
       "[50000 rows x 8 columns]"
      ]
     },
     "execution_count": 23,
     "metadata": {},
     "output_type": "execute_result"
    }
   ],
   "source": [
    "# changing the feed id to something more coherent (for loop above was not working so had to resort to manual changes)\n",
    "\n",
    "watched.loc[watched.feedId=='27a87df4-da75-451f-b8f6-af9dd0a4ee00', 'feedId']='music'\n",
    "watched.loc[watched.feedId=='42568c8a-efbe-4293-81a3-513e33094ade', 'feedId']='fashion'\n",
    "watched.loc[watched.feedId=='6894af29-56cc-4b4a-8ee6-be9b3cb3e7f1', 'feedId']='sports'\n",
    "watched.loc[watched.feedId=='c9d59470-c4ee-43ff-831d-b52508c8d848', 'feedId']='games'\n",
    "watched.loc[watched.feedId=='582520b2-b30a-4ecb-b1b4-1806672fcfc4', 'feedId']='travel'\n",
    "watched.loc[watched.feedId=='a8a04865-55d4-4de4-8141-b273b678299f', 'feedId']='fun'\n",
    "watched.loc[watched.feedId=='644a3cb6-e266-4757-9e96-a3ee049216fe', 'feedId']='jokes'\n",
    "watched.loc[watched.feedId=='da6c201f-8e50-433c-b2ad-614e42fac047', 'feedId']='love'\n",
    "watched.loc[watched.feedId=='8078efe7-5bae-4528-9a66-b85904cc73ac', 'feedId']='dance'\n",
    "watched.loc[watched.feedId=='30134b9e-1b79-43fb-b0c5-373af9237b2c', 'feedId']='beaches'\n",
    "\n",
    "watched"
   ]
  },
  {
   "cell_type": "code",
   "execution_count": 24,
   "id": "7ab3510a",
   "metadata": {
    "scrolled": false
   },
   "outputs": [
    {
     "data": {
      "text/plain": [
       "year  month\n",
       "2021  1            1\n",
       "      2            8\n",
       "      3           25\n",
       "      4           80\n",
       "      5          213\n",
       "      6          385\n",
       "      7          817\n",
       "      8         1696\n",
       "      9         3122\n",
       "      10        6312\n",
       "      11       14584\n",
       "      12       22757\n",
       "dtype: int64"
      ]
     },
     "execution_count": 24,
     "metadata": {},
     "output_type": "execute_result"
    }
   ],
   "source": [
    "# separating out year, month, and month_year\n",
    "\n",
    "# converting created_at feature to datetime for ease of use\n",
    "watched['dateTime'] = pd.DatetimeIndex(watched['dateTime'])\n",
    "\n",
    "# get the year and month to see what the breakdown is by year\n",
    "watched['year'] = watched['dateTime'].dt.year\n",
    "watched['month'] = watched['dateTime'].dt.month\n",
    "# watched['m_y'] = watched['datetime'].dt.strftime('%m-%Y')\n",
    "\n",
    "# number of new watched per month broken down by year\n",
    "watched[['year', 'month']].value_counts().sort_index()"
   ]
  },
  {
   "cell_type": "markdown",
   "id": "87c3311c",
   "metadata": {},
   "source": [
    "## Music"
   ]
  },
  {
   "cell_type": "code",
   "execution_count": 44,
   "id": "4d76e0f4",
   "metadata": {
    "scrolled": true
   },
   "outputs": [
    {
     "data": {
      "text/plain": [
       "3        6\n",
       "4        2\n",
       "5       23\n",
       "6       36\n",
       "7       73\n",
       "8      163\n",
       "9      339\n",
       "10     611\n",
       "11    1472\n",
       "12    2253\n",
       "Name: month, dtype: int64"
      ]
     },
     "execution_count": 44,
     "metadata": {},
     "output_type": "execute_result"
    }
   ],
   "source": [
    "# checking if all months are accounted for \n",
    "\n",
    "watched[watched['feedId']=='music']['month'].value_counts().sort_index()"
   ]
  },
  {
   "cell_type": "code",
   "execution_count": 43,
   "id": "562a4fac",
   "metadata": {},
   "outputs": [
    {
     "data": {
      "text/plain": [
       "[6, 2, 23, 36, 73, 163, 339, 611, 1472, 2253]"
      ]
     },
     "execution_count": 43,
     "metadata": {},
     "output_type": "execute_result"
    }
   ],
   "source": [
    "list(watched[watched['feedId']=='music']['month'].value_counts().sort_index())"
   ]
  },
  {
   "cell_type": "code",
   "execution_count": 48,
   "id": "025d417c",
   "metadata": {
    "scrolled": true
   },
   "outputs": [
    {
     "data": {
      "text/plain": [
       "Text(0, 0.5, 'Number of Music Videos Watched')"
      ]
     },
     "execution_count": 48,
     "metadata": {},
     "output_type": "execute_result"
    },
    {
     "data": {
      "image/png": "[encoded data removed]",
      "text/plain": [
       "<Figure size 432x288 with 1 Axes>"
      ]
     },
     "metadata": {
      "needs_background": "light"
     },
     "output_type": "display_data"
    }
   ],
   "source": [
    "# A line graph to see the time series graph \n",
    "\n",
    "months_list = list(range(1, 13))\n",
    "\n",
    "# get the count of new musics by month sorting by index\n",
    "# watched_music = watched[watched['feedId']=='music']['month'].value_counts().sort_index()\n",
    "\n",
    "# creating a list from above to pass into mk test\n",
    "watched_music_list = [0, 0, 6, 2, 23, 36, 73, 163, 339, 611, 1472, 2253]\n",
    "\n",
    "# plot the time-series graph\n",
    "plt.plot(months_list, watched_music_list)\n",
    "plt.title('Music Videos Watched Over 1 Year')\n",
    "plt.xlabel('Months')\n",
    "plt.ylabel('Number of Music Videos Watched')"
   ]
  },
  {
   "cell_type": "code",
   "execution_count": 49,
   "id": "dee20f8e",
   "metadata": {
    "scrolled": true
   },
   "outputs": [
    {
     "data": {
      "text/html": [
       "<div>\n",
       "<style scoped>\n",
       "    .dataframe tbody tr th:only-of-type {\n",
       "        vertical-align: middle;\n",
       "    }\n",
       "\n",
       "    .dataframe tbody tr th {\n",
       "        vertical-align: top;\n",
       "    }\n",
       "\n",
       "    .dataframe thead th {\n",
       "        text-align: right;\n",
       "    }\n",
       "</style>\n",
       "<table border=\"1\" class=\"dataframe\">\n",
       "  <thead>\n",
       "    <tr style=\"text-align: right;\">\n",
       "      <th></th>\n",
       "      <th>Statistics</th>\n",
       "    </tr>\n",
       "    <tr>\n",
       "      <th>Label</th>\n",
       "      <th></th>\n",
       "    </tr>\n",
       "  </thead>\n",
       "  <tbody>\n",
       "    <tr>\n",
       "      <th>trend</th>\n",
       "      <td>increasing</td>\n",
       "    </tr>\n",
       "    <tr>\n",
       "      <th>h</th>\n",
       "      <td>True</td>\n",
       "    </tr>\n",
       "    <tr>\n",
       "      <th>p</th>\n",
       "      <td>0.00002</td>\n",
       "    </tr>\n",
       "    <tr>\n",
       "      <th>z</th>\n",
       "      <td>4.261529</td>\n",
       "    </tr>\n",
       "    <tr>\n",
       "      <th>Tau</th>\n",
       "      <td>0.954545</td>\n",
       "    </tr>\n",
       "    <tr>\n",
       "      <th>s</th>\n",
       "      <td>63.0</td>\n",
       "    </tr>\n",
       "    <tr>\n",
       "      <th>var_s</th>\n",
       "      <td>211.666667</td>\n",
       "    </tr>\n",
       "    <tr>\n",
       "      <th>slope</th>\n",
       "      <td>77.6875</td>\n",
       "    </tr>\n",
       "    <tr>\n",
       "      <th>intercept</th>\n",
       "      <td>-372.78125</td>\n",
       "    </tr>\n",
       "  </tbody>\n",
       "</table>\n",
       "</div>"
      ],
      "text/plain": [
       "           Statistics\n",
       "Label                \n",
       "trend      increasing\n",
       "h                True\n",
       "p             0.00002\n",
       "z            4.261529\n",
       "Tau          0.954545\n",
       "s                63.0\n",
       "var_s      211.666667\n",
       "slope         77.6875\n",
       "intercept  -372.78125"
      ]
     },
     "execution_count": 49,
     "metadata": {},
     "output_type": "execute_result"
    }
   ],
   "source": [
    "# run the mk test\n",
    "df_music = pd.DataFrame(mk.original_test(watched_music_list))\n",
    "\n",
    "# Creating a dataframe of the mk test stats for easy viewing\n",
    "mk_labels = ['trend', 'h', 'p', 'z', 'Tau', 's', 'var_s', 'slope', 'intercept']\n",
    "df_music.columns = ['Statistics']\n",
    "df_music['Label'] = mk_labels\n",
    "df_music = df_music.set_index('Label')\n",
    "df_music"
   ]
  },
  {
   "cell_type": "markdown",
   "id": "15e609f7",
   "metadata": {},
   "source": [
    "## Fashion"
   ]
  },
  {
   "cell_type": "code",
   "execution_count": 50,
   "id": "862810bf",
   "metadata": {
    "scrolled": true
   },
   "outputs": [
    {
     "data": {
      "text/plain": [
       "3        3\n",
       "4       11\n",
       "5       17\n",
       "6       39\n",
       "7       84\n",
       "8      185\n",
       "9      314\n",
       "10     641\n",
       "11    1448\n",
       "12    2374\n",
       "Name: month, dtype: int64"
      ]
     },
     "execution_count": 50,
     "metadata": {},
     "output_type": "execute_result"
    }
   ],
   "source": [
    "# checking if all months are accounted for to adjust months_list below\n",
    "\n",
    "watched[watched['feedId']=='fashion']['month'].value_counts().sort_index()"
   ]
  },
  {
   "cell_type": "code",
   "execution_count": 51,
   "id": "93e90a92",
   "metadata": {},
   "outputs": [
    {
     "data": {
      "text/plain": [
       "[3, 11, 17, 39, 84, 185, 314, 641, 1448, 2374]"
      ]
     },
     "execution_count": 51,
     "metadata": {},
     "output_type": "execute_result"
    }
   ],
   "source": [
    "list(watched[watched['feedId']=='fashion']['month'].value_counts().sort_index())"
   ]
  },
  {
   "cell_type": "code",
   "execution_count": 53,
   "id": "5323351d",
   "metadata": {},
   "outputs": [
    {
     "data": {
      "text/plain": [
       "Text(0, 0.5, 'Number of Fashion Videos Watched')"
      ]
     },
     "execution_count": 53,
     "metadata": {},
     "output_type": "execute_result"
    },
    {
     "data": {
      "image/png": "[encoded data removed]",
      "text/plain": [
       "<Figure size 432x288 with 1 Axes>"
      ]
     },
     "metadata": {
      "needs_background": "light"
     },
     "output_type": "display_data"
    }
   ],
   "source": [
    "# A line graph to see the time series graph \n",
    "\n",
    "months_list = list(range(1, 13))\n",
    "\n",
    "# get the count of new fashions by month sorting by index\n",
    "# watched_fashion = watched[watched['feedId']=='fashion']['month'].value_counts().sort_index()\n",
    "\n",
    "# creating a list from above to pass into mk test\n",
    "watched_fashion_list = [0, 0, 3, 11, 17, 39, 84, 185, 314, 641, 1448, 2374]\n",
    "\n",
    "# plot the time-series graph\n",
    "plt.plot(months_list, watched_fashion_list)\n",
    "plt.title('Fashion Videos Watched Over 1 Year')\n",
    "plt.xlabel('Months')\n",
    "plt.ylabel('Number of Fashion Videos Watched')"
   ]
  },
  {
   "cell_type": "code",
   "execution_count": 54,
   "id": "cd077ca3",
   "metadata": {},
   "outputs": [
    {
     "data": {
      "text/html": [
       "<div>\n",
       "<style scoped>\n",
       "    .dataframe tbody tr th:only-of-type {\n",
       "        vertical-align: middle;\n",
       "    }\n",
       "\n",
       "    .dataframe tbody tr th {\n",
       "        vertical-align: top;\n",
       "    }\n",
       "\n",
       "    .dataframe thead th {\n",
       "        text-align: right;\n",
       "    }\n",
       "</style>\n",
       "<table border=\"1\" class=\"dataframe\">\n",
       "  <thead>\n",
       "    <tr style=\"text-align: right;\">\n",
       "      <th></th>\n",
       "      <th>Statistics</th>\n",
       "    </tr>\n",
       "    <tr>\n",
       "      <th>Label</th>\n",
       "      <th></th>\n",
       "    </tr>\n",
       "  </thead>\n",
       "  <tbody>\n",
       "    <tr>\n",
       "      <th>trend</th>\n",
       "      <td>increasing</td>\n",
       "    </tr>\n",
       "    <tr>\n",
       "      <th>h</th>\n",
       "      <td>True</td>\n",
       "    </tr>\n",
       "    <tr>\n",
       "      <th>p</th>\n",
       "      <td>0.000011</td>\n",
       "    </tr>\n",
       "    <tr>\n",
       "      <th>z</th>\n",
       "      <td>4.398998</td>\n",
       "    </tr>\n",
       "    <tr>\n",
       "      <th>Tau</th>\n",
       "      <td>0.984848</td>\n",
       "    </tr>\n",
       "    <tr>\n",
       "      <th>s</th>\n",
       "      <td>65.0</td>\n",
       "    </tr>\n",
       "    <tr>\n",
       "      <th>var_s</th>\n",
       "      <td>211.666667</td>\n",
       "    </tr>\n",
       "    <tr>\n",
       "      <th>slope</th>\n",
       "      <td>77.1875</td>\n",
       "    </tr>\n",
       "    <tr>\n",
       "      <th>intercept</th>\n",
       "      <td>-363.03125</td>\n",
       "    </tr>\n",
       "  </tbody>\n",
       "</table>\n",
       "</div>"
      ],
      "text/plain": [
       "           Statistics\n",
       "Label                \n",
       "trend      increasing\n",
       "h                True\n",
       "p            0.000011\n",
       "z            4.398998\n",
       "Tau          0.984848\n",
       "s                65.0\n",
       "var_s      211.666667\n",
       "slope         77.1875\n",
       "intercept  -363.03125"
      ]
     },
     "execution_count": 54,
     "metadata": {},
     "output_type": "execute_result"
    }
   ],
   "source": [
    "# run the mk test\n",
    "df_fashion = pd.DataFrame(mk.original_test(watched_fashion_list))\n",
    "\n",
    "# Creating a dataframe of the mk test stats for easy viewing\n",
    "mk_labels = ['trend', 'h', 'p', 'z', 'Tau', 's', 'var_s', 'slope', 'intercept']\n",
    "df_fashion.columns = ['Statistics']\n",
    "df_fashion['Label'] = mk_labels\n",
    "df_fashion = df_fashion.set_index('Label')\n",
    "df_fashion"
   ]
  },
  {
   "cell_type": "markdown",
   "id": "d6b8410f",
   "metadata": {},
   "source": [
    "## Sports"
   ]
  },
  {
   "cell_type": "code",
   "execution_count": 34,
   "id": "d3445c45",
   "metadata": {
    "scrolled": true
   },
   "outputs": [
    {
     "data": {
      "text/plain": [
       "1        1\n",
       "2        2\n",
       "4        8\n",
       "5       17\n",
       "6       31\n",
       "7       79\n",
       "8      164\n",
       "9      308\n",
       "10     659\n",
       "11    1448\n",
       "12    2300\n",
       "Name: month, dtype: int64"
      ]
     },
     "execution_count": 34,
     "metadata": {},
     "output_type": "execute_result"
    }
   ],
   "source": [
    "# checking if all months are accounted for to adjust months_list below\n",
    "\n",
    "watched[watched['feedId']=='sports']['month'].value_counts().sort_index()"
   ]
  },
  {
   "cell_type": "code",
   "execution_count": 40,
   "id": "3ae3d9c7",
   "metadata": {},
   "outputs": [
    {
     "data": {
      "text/plain": [
       "[1, 2, 8, 17, 31, 79, 164, 308, 659, 1448, 2300]"
      ]
     },
     "execution_count": 40,
     "metadata": {},
     "output_type": "execute_result"
    }
   ],
   "source": [
    "list(watched[watched['feedId']=='sports']['month'].value_counts().sort_index())"
   ]
  },
  {
   "cell_type": "code",
   "execution_count": 41,
   "id": "e5a4be59",
   "metadata": {},
   "outputs": [
    {
     "data": {
      "text/plain": [
       "Text(0, 0.5, 'Number of Sports Videos Watched')"
      ]
     },
     "execution_count": 41,
     "metadata": {},
     "output_type": "execute_result"
    },
    {
     "data": {
      "image/png": "[encoded data removed]",
      "text/plain": [
       "<Figure size 432x288 with 1 Axes>"
      ]
     },
     "metadata": {
      "needs_background": "light"
     },
     "output_type": "display_data"
    }
   ],
   "source": [
    "# A line graph to see the time series graph \n",
    "\n",
    "months_list = list(range(1, 13))\n",
    "\n",
    "# get the count of new sportss by month sorting by index\n",
    "# watched_sports = watched[watched['feedId']=='sports']['month'].value_counts().sort_index()\n",
    "\n",
    "# creating a list from above to pass into mk test\n",
    "watched_sports_list = [1, 2, 0, 8, 17, 31, 79, 164, 308, 659, 1448, 2300]\n",
    "\n",
    "# plot the time-series graph\n",
    "plt.plot(months_list, watched_sports_list)\n",
    "plt.title('Sports Videos Watched Over 1 Year')\n",
    "plt.xlabel('Months')\n",
    "plt.ylabel('Number of Sports Videos Watched')"
   ]
  },
  {
   "cell_type": "code",
   "execution_count": 42,
   "id": "a556fe73",
   "metadata": {},
   "outputs": [
    {
     "data": {
      "text/html": [
       "<div>\n",
       "<style scoped>\n",
       "    .dataframe tbody tr th:only-of-type {\n",
       "        vertical-align: middle;\n",
       "    }\n",
       "\n",
       "    .dataframe tbody tr th {\n",
       "        vertical-align: top;\n",
       "    }\n",
       "\n",
       "    .dataframe thead th {\n",
       "        text-align: right;\n",
       "    }\n",
       "</style>\n",
       "<table border=\"1\" class=\"dataframe\">\n",
       "  <thead>\n",
       "    <tr style=\"text-align: right;\">\n",
       "      <th></th>\n",
       "      <th>Statistics</th>\n",
       "    </tr>\n",
       "    <tr>\n",
       "      <th>Label</th>\n",
       "      <th></th>\n",
       "    </tr>\n",
       "  </thead>\n",
       "  <tbody>\n",
       "    <tr>\n",
       "      <th>trend</th>\n",
       "      <td>increasing</td>\n",
       "    </tr>\n",
       "    <tr>\n",
       "      <th>h</th>\n",
       "      <td>True</td>\n",
       "    </tr>\n",
       "    <tr>\n",
       "      <th>p</th>\n",
       "      <td>0.000029</td>\n",
       "    </tr>\n",
       "    <tr>\n",
       "      <th>z</th>\n",
       "      <td>4.182925</td>\n",
       "    </tr>\n",
       "    <tr>\n",
       "      <th>Tau</th>\n",
       "      <td>0.939394</td>\n",
       "    </tr>\n",
       "    <tr>\n",
       "      <th>s</th>\n",
       "      <td>62.0</td>\n",
       "    </tr>\n",
       "    <tr>\n",
       "      <th>var_s</th>\n",
       "      <td>212.666667</td>\n",
       "    </tr>\n",
       "    <tr>\n",
       "      <th>slope</th>\n",
       "      <td>77.618056</td>\n",
       "    </tr>\n",
       "    <tr>\n",
       "      <th>intercept</th>\n",
       "      <td>-371.899306</td>\n",
       "    </tr>\n",
       "  </tbody>\n",
       "</table>\n",
       "</div>"
      ],
      "text/plain": [
       "           Statistics\n",
       "Label                \n",
       "trend      increasing\n",
       "h                True\n",
       "p            0.000029\n",
       "z            4.182925\n",
       "Tau          0.939394\n",
       "s                62.0\n",
       "var_s      212.666667\n",
       "slope       77.618056\n",
       "intercept -371.899306"
      ]
     },
     "execution_count": 42,
     "metadata": {},
     "output_type": "execute_result"
    }
   ],
   "source": [
    "# run the mk test\n",
    "df_sports = pd.DataFrame(mk.original_test(watched_sports_list))\n",
    "\n",
    "# Creating a dataframe of the mk test stats for easy viewing\n",
    "mk_labels = ['trend', 'h', 'p', 'z', 'Tau', 's', 'var_s', 'slope', 'intercept']\n",
    "df_sports.columns = ['Statistics']\n",
    "df_sports['Label'] = mk_labels\n",
    "df_sports = df_sports.set_index('Label')\n",
    "df_sports"
   ]
  },
  {
   "cell_type": "code",
   "execution_count": 55,
   "id": "ba7aaaa4",
   "metadata": {},
   "outputs": [
    {
     "data": {
      "text/plain": [
       "3        1\n",
       "4        6\n",
       "5       31\n",
       "6       39\n",
       "7       89\n",
       "8      158\n",
       "9      300\n",
       "10     695\n",
       "11    1456\n",
       "12    2214\n",
       "Name: month, dtype: int64"
      ]
     },
     "execution_count": 55,
     "metadata": {},
     "output_type": "execute_result"
    }
   ],
   "source": [
    "# checking if all months are accounted for to adjust months_list below\n",
    "\n",
    "watched[watched['feedId']=='games']['month'].value_counts().sort_index()"
   ]
  },
  {
   "cell_type": "code",
   "execution_count": 56,
   "id": "bfc44b0b",
   "metadata": {},
   "outputs": [
    {
     "data": {
      "text/plain": [
       "3        3\n",
       "4        8\n",
       "5       25\n",
       "6       45\n",
       "7       94\n",
       "8      174\n",
       "9      362\n",
       "10     609\n",
       "11    1481\n",
       "12    2303\n",
       "Name: month, dtype: int64"
      ]
     },
     "execution_count": 56,
     "metadata": {},
     "output_type": "execute_result"
    }
   ],
   "source": [
    "watched[watched['feedId']=='travel']['month'].value_counts().sort_index()"
   ]
  },
  {
   "cell_type": "code",
   "execution_count": 57,
   "id": "4461166f",
   "metadata": {},
   "outputs": [
    {
     "data": {
      "text/plain": [
       "2        1\n",
       "3        2\n",
       "4        6\n",
       "5       13\n",
       "6       52\n",
       "7       90\n",
       "8      162\n",
       "9      286\n",
       "10     611\n",
       "11    1455\n",
       "12    2296\n",
       "Name: month, dtype: int64"
      ]
     },
     "execution_count": 57,
     "metadata": {},
     "output_type": "execute_result"
    }
   ],
   "source": [
    "watched[watched['feedId']=='fun']['month'].value_counts().sort_index()"
   ]
  },
  {
   "cell_type": "code",
   "execution_count": 58,
   "id": "a307d469",
   "metadata": {},
   "outputs": [
    {
     "data": {
      "text/plain": [
       "3        2\n",
       "4        5\n",
       "5       20\n",
       "6       38\n",
       "7       88\n",
       "8      158\n",
       "9      302\n",
       "10     635\n",
       "11    1435\n",
       "12    2293\n",
       "Name: month, dtype: int64"
      ]
     },
     "execution_count": 58,
     "metadata": {},
     "output_type": "execute_result"
    }
   ],
   "source": [
    "watched[watched['feedId']=='jokes']['month'].value_counts().sort_index()"
   ]
  },
  {
   "cell_type": "code",
   "execution_count": 59,
   "id": "605eb316",
   "metadata": {
    "scrolled": true
   },
   "outputs": [
    {
     "data": {
      "text/plain": [
       "2        2\n",
       "3        3\n",
       "4        6\n",
       "5       18\n",
       "6       33\n",
       "7       86\n",
       "8      175\n",
       "9      293\n",
       "10     618\n",
       "11    1469\n",
       "12    2236\n",
       "Name: month, dtype: int64"
      ]
     },
     "execution_count": 59,
     "metadata": {},
     "output_type": "execute_result"
    }
   ],
   "source": [
    "watched[watched['feedId']=='love']['month'].value_counts().sort_index()"
   ]
  },
  {
   "cell_type": "code",
   "execution_count": 60,
   "id": "150eea7b",
   "metadata": {},
   "outputs": [
    {
     "data": {
      "text/plain": [
       "2        1\n",
       "3        3\n",
       "4       14\n",
       "5       26\n",
       "6       47\n",
       "7       68\n",
       "8      171\n",
       "9      306\n",
       "10     612\n",
       "11    1503\n",
       "12    2261\n",
       "Name: month, dtype: int64"
      ]
     },
     "execution_count": 60,
     "metadata": {},
     "output_type": "execute_result"
    }
   ],
   "source": [
    "watched[watched['feedId']=='dance']['month'].value_counts().sort_index()"
   ]
  },
  {
   "cell_type": "code",
   "execution_count": 61,
   "id": "771f6848",
   "metadata": {},
   "outputs": [
    {
     "data": {
      "text/plain": [
       "2        2\n",
       "3        2\n",
       "4       14\n",
       "5       23\n",
       "6       25\n",
       "7       66\n",
       "8      186\n",
       "9      312\n",
       "10     621\n",
       "11    1417\n",
       "12    2227\n",
       "Name: month, dtype: int64"
      ]
     },
     "execution_count": 61,
     "metadata": {},
     "output_type": "execute_result"
    }
   ],
   "source": [
    "watched[watched['feedId']=='beaches']['month'].value_counts().sort_index()"
   ]
  },
  {
   "cell_type": "code",
   "execution_count": null,
   "id": "21ec548b",
   "metadata": {},
   "outputs": [],
   "source": []
  },
  {
   "cell_type": "code",
   "execution_count": null,
   "id": "61f20ce8",
   "metadata": {},
   "outputs": [],
   "source": []
  },
  {
   "cell_type": "code",
   "execution_count": null,
   "id": "7cae8a06",
   "metadata": {},
   "outputs": [],
   "source": [
    "# 'music'\n",
    "# 'fashion'\n",
    "# 'sports'\n",
    "# 'games'\n",
    "# 'travel'\n",
    "# 'fun'\n",
    "# 'jokes'\n",
    "# 'love'\n",
    "# 'dance'\n",
    "# 'beaches'"
   ]
  },
  {
   "cell_type": "code",
   "execution_count": null,
   "id": "f5768a9d",
   "metadata": {},
   "outputs": [],
   "source": []
  },
  {
   "cell_type": "code",
   "execution_count": null,
   "id": "3dfba431",
   "metadata": {},
   "outputs": [],
   "source": []
  },
  {
   "cell_type": "code",
   "execution_count": null,
   "id": "abf51295",
   "metadata": {},
   "outputs": [],
   "source": []
  },
  {
   "cell_type": "code",
   "execution_count": null,
   "id": "a4fee493",
   "metadata": {},
   "outputs": [],
   "source": []
  },
  {
   "cell_type": "code",
   "execution_count": null,
   "id": "1e3f9e10",
   "metadata": {},
   "outputs": [],
   "source": []
  },
  {
   "cell_type": "code",
   "execution_count": null,
   "id": "2c7b3a11",
   "metadata": {},
   "outputs": [],
   "source": []
  },
  {
   "cell_type": "code",
   "execution_count": null,
   "id": "cd3bbbe0",
   "metadata": {},
   "outputs": [],
   "source": []
  },
  {
   "cell_type": "code",
   "execution_count": null,
   "id": "895f8572",
   "metadata": {},
   "outputs": [],
   "source": []
  },
  {
   "cell_type": "code",
   "execution_count": null,
   "id": "f62843a9",
   "metadata": {},
   "outputs": [],
   "source": []
  },
  {
   "cell_type": "code",
   "execution_count": null,
   "id": "b7a5cd6e",
   "metadata": {},
   "outputs": [],
   "source": []
  },
  {
   "cell_type": "code",
   "execution_count": null,
   "id": "8e4e6ad8",
   "metadata": {},
   "outputs": [],
   "source": []
  },
  {
   "cell_type": "code",
   "execution_count": null,
   "id": "5ff4aeb8",
   "metadata": {},
   "outputs": [],
   "source": []
  },
  {
   "cell_type": "code",
   "execution_count": null,
   "id": "a7fbd81e",
   "metadata": {},
   "outputs": [],
   "source": []
  },
  {
   "cell_type": "code",
   "execution_count": null,
   "id": "8958db1f",
   "metadata": {},
   "outputs": [],
   "source": []
  },
  {
   "cell_type": "code",
   "execution_count": null,
   "id": "5044e5f0",
   "metadata": {},
   "outputs": [],
   "source": []
  }
 ],
 "metadata": {
  "kernelspec": {
   "display_name": "proj3_tf",
   "language": "python",
   "name": "proj3_tf"
  },
  "language_info": {
   "codemirror_mode": {
    "name": "ipython",
    "version": 3
   },
   "file_extension": ".py",
   "mimetype": "text/x-python",
   "name": "python",
   "nbconvert_exporter": "python",
   "pygments_lexer": "ipython3",
   "version": "3.9.7"
  }
 },
 "nbformat": 4,
 "nbformat_minor": 5
}
