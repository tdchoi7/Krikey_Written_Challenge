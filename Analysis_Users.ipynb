{
 "cells": [
  {
   "cell_type": "code",
   "execution_count": 1,
   "id": "fdf80fe7",
   "metadata": {},
   "outputs": [],
   "source": [
    "import pandas as pd\n",
    "import numpy as np\n",
    "\n",
    "import matplotlib.pyplot as plt\n",
    "import seaborn as sns\n",
    "import copy"
   ]
  },
  {
   "cell_type": "markdown",
   "id": "bc8e8734",
   "metadata": {},
   "source": [
    "# Users"
   ]
  },
  {
   "cell_type": "code",
   "execution_count": 2,
   "id": "c8e90898",
   "metadata": {
    "scrolled": false
   },
   "outputs": [
    {
     "data": {
      "text/html": [
       "<div>\n",
       "<style scoped>\n",
       "    .dataframe tbody tr th:only-of-type {\n",
       "        vertical-align: middle;\n",
       "    }\n",
       "\n",
       "    .dataframe tbody tr th {\n",
       "        vertical-align: top;\n",
       "    }\n",
       "\n",
       "    .dataframe thead th {\n",
       "        text-align: right;\n",
       "    }\n",
       "</style>\n",
       "<table border=\"1\" class=\"dataframe\">\n",
       "  <thead>\n",
       "    <tr style=\"text-align: right;\">\n",
       "      <th></th>\n",
       "      <th>id</th>\n",
       "      <th>created_at</th>\n",
       "      <th>class</th>\n",
       "      <th>coordinates</th>\n",
       "    </tr>\n",
       "  </thead>\n",
       "  <tbody>\n",
       "    <tr>\n",
       "      <th>0</th>\n",
       "      <td>37e369a8-4477-4d5d-acd7-4e3b8059586e</td>\n",
       "      <td>2021-03-23 00:24:53</td>\n",
       "      <td>Creator</td>\n",
       "      <td>('36.76775', '2.95924')</td>\n",
       "    </tr>\n",
       "    <tr>\n",
       "      <th>1</th>\n",
       "      <td>27cf0bb6-3488-4662-916d-3ad04eeec9ca</td>\n",
       "      <td>2021-04-09 19:55:07</td>\n",
       "      <td>Viewer</td>\n",
       "      <td>('43.71032', '-1.05366')</td>\n",
       "    </tr>\n",
       "    <tr>\n",
       "      <th>2</th>\n",
       "      <td>5ebd5e12-ba2a-4bf9-b7e4-92ad24711cd4</td>\n",
       "      <td>2021-04-08 21:48:45</td>\n",
       "      <td>Super Gamer</td>\n",
       "      <td>('51.26', '-2.1875')</td>\n",
       "    </tr>\n",
       "    <tr>\n",
       "      <th>3</th>\n",
       "      <td>30986592-0cbf-43bb-83ed-7501ab3bd373</td>\n",
       "      <td>2021-05-15 00:45:51</td>\n",
       "      <td>Creator</td>\n",
       "      <td>('40.65538', '-74.38987')</td>\n",
       "    </tr>\n",
       "    <tr>\n",
       "      <th>4</th>\n",
       "      <td>25b49125-34d1-4694-a4a9-8415bcc3567b</td>\n",
       "      <td>2021-07-05 04:08:53</td>\n",
       "      <td>Viewer</td>\n",
       "      <td>('35.61452', '-88.81395')</td>\n",
       "    </tr>\n",
       "    <tr>\n",
       "      <th>...</th>\n",
       "      <td>...</td>\n",
       "      <td>...</td>\n",
       "      <td>...</td>\n",
       "      <td>...</td>\n",
       "    </tr>\n",
       "    <tr>\n",
       "      <th>995</th>\n",
       "      <td>d91c5e9a-ed7e-4f4a-b62b-ddabe069198a</td>\n",
       "      <td>2021-11-15 15:16:47</td>\n",
       "      <td>Viewer</td>\n",
       "      <td>('-23.44361', '-51.87389')</td>\n",
       "    </tr>\n",
       "    <tr>\n",
       "      <th>996</th>\n",
       "      <td>b80a25b8-a567-449c-af7a-420c46254112</td>\n",
       "      <td>2021-03-26 22:23:00</td>\n",
       "      <td>Creator</td>\n",
       "      <td>('54.48147', '53.47103')</td>\n",
       "    </tr>\n",
       "    <tr>\n",
       "      <th>997</th>\n",
       "      <td>3d27e9ff-bc73-47f7-a51d-3047e6ec959f</td>\n",
       "      <td>2021-08-28 20:45:04</td>\n",
       "      <td>Super Gamer</td>\n",
       "      <td>('18.87813', '72.93924')</td>\n",
       "    </tr>\n",
       "    <tr>\n",
       "      <th>998</th>\n",
       "      <td>84e57e9b-4e2e-408b-a351-2aedf85a207c</td>\n",
       "      <td>2021-04-15 10:35:55</td>\n",
       "      <td>Viewer</td>\n",
       "      <td>('31.92923', '34.86563')</td>\n",
       "    </tr>\n",
       "    <tr>\n",
       "      <th>999</th>\n",
       "      <td>471e1687-07ba-4bb6-8341-839bd3d7c851</td>\n",
       "      <td>2021-05-01 09:08:13</td>\n",
       "      <td>Viewer</td>\n",
       "      <td>('27.76056', '-15.58602')</td>\n",
       "    </tr>\n",
       "  </tbody>\n",
       "</table>\n",
       "<p>1000 rows × 4 columns</p>\n",
       "</div>"
      ],
      "text/plain": [
       "                                       id           created_at        class  \\\n",
       "0    37e369a8-4477-4d5d-acd7-4e3b8059586e  2021-03-23 00:24:53      Creator   \n",
       "1    27cf0bb6-3488-4662-916d-3ad04eeec9ca  2021-04-09 19:55:07       Viewer   \n",
       "2    5ebd5e12-ba2a-4bf9-b7e4-92ad24711cd4  2021-04-08 21:48:45  Super Gamer   \n",
       "3    30986592-0cbf-43bb-83ed-7501ab3bd373  2021-05-15 00:45:51      Creator   \n",
       "4    25b49125-34d1-4694-a4a9-8415bcc3567b  2021-07-05 04:08:53       Viewer   \n",
       "..                                    ...                  ...          ...   \n",
       "995  d91c5e9a-ed7e-4f4a-b62b-ddabe069198a  2021-11-15 15:16:47       Viewer   \n",
       "996  b80a25b8-a567-449c-af7a-420c46254112  2021-03-26 22:23:00      Creator   \n",
       "997  3d27e9ff-bc73-47f7-a51d-3047e6ec959f  2021-08-28 20:45:04  Super Gamer   \n",
       "998  84e57e9b-4e2e-408b-a351-2aedf85a207c  2021-04-15 10:35:55       Viewer   \n",
       "999  471e1687-07ba-4bb6-8341-839bd3d7c851  2021-05-01 09:08:13       Viewer   \n",
       "\n",
       "                    coordinates  \n",
       "0       ('36.76775', '2.95924')  \n",
       "1      ('43.71032', '-1.05366')  \n",
       "2          ('51.26', '-2.1875')  \n",
       "3     ('40.65538', '-74.38987')  \n",
       "4     ('35.61452', '-88.81395')  \n",
       "..                          ...  \n",
       "995  ('-23.44361', '-51.87389')  \n",
       "996    ('54.48147', '53.47103')  \n",
       "997    ('18.87813', '72.93924')  \n",
       "998    ('31.92923', '34.86563')  \n",
       "999   ('27.76056', '-15.58602')  \n",
       "\n",
       "[1000 rows x 4 columns]"
      ]
     },
     "execution_count": 2,
     "metadata": {},
     "output_type": "execute_result"
    }
   ],
   "source": [
    "# checking users\n",
    "\n",
    "users = pd.read_csv('users.csv', index_col=0)\n",
    "users"
   ]
  },
  {
   "cell_type": "code",
   "execution_count": 3,
   "id": "dbc9f8f6",
   "metadata": {
    "scrolled": true
   },
   "outputs": [
    {
     "name": "stdout",
     "output_type": "stream",
     "text": [
      "<class 'pandas.core.frame.DataFrame'>\n",
      "Int64Index: 1000 entries, 0 to 999\n",
      "Data columns (total 4 columns):\n",
      " #   Column       Non-Null Count  Dtype \n",
      "---  ------       --------------  ----- \n",
      " 0   id           1000 non-null   object\n",
      " 1   created_at   1000 non-null   object\n",
      " 2   class        1000 non-null   object\n",
      " 3   coordinates  1000 non-null   object\n",
      "dtypes: object(4)\n",
      "memory usage: 39.1+ KB\n"
     ]
    }
   ],
   "source": [
    "# checking for completeness and datatype\n",
    "\n",
    "users.info()"
   ]
  },
  {
   "cell_type": "code",
   "execution_count": 4,
   "id": "2616696a",
   "metadata": {
    "scrolled": true
   },
   "outputs": [
    {
     "data": {
      "text/plain": [
       "1000"
      ]
     },
     "execution_count": 4,
     "metadata": {},
     "output_type": "execute_result"
    }
   ],
   "source": [
    "# confirming that there are no duplicate IDs\n",
    "\n",
    "users['id'].nunique()"
   ]
  },
  {
   "cell_type": "code",
   "execution_count": 5,
   "id": "ea3878a6",
   "metadata": {
    "scrolled": true
   },
   "outputs": [
    {
     "data": {
      "text/html": [
       "<div>\n",
       "<style scoped>\n",
       "    .dataframe tbody tr th:only-of-type {\n",
       "        vertical-align: middle;\n",
       "    }\n",
       "\n",
       "    .dataframe tbody tr th {\n",
       "        vertical-align: top;\n",
       "    }\n",
       "\n",
       "    .dataframe thead th {\n",
       "        text-align: right;\n",
       "    }\n",
       "</style>\n",
       "<table border=\"1\" class=\"dataframe\">\n",
       "  <thead>\n",
       "    <tr style=\"text-align: right;\">\n",
       "      <th></th>\n",
       "      <th>created_at</th>\n",
       "      <th>class</th>\n",
       "      <th>coordinates</th>\n",
       "    </tr>\n",
       "  </thead>\n",
       "  <tbody>\n",
       "    <tr>\n",
       "      <th>0</th>\n",
       "      <td>2021-03-23 00:24:53</td>\n",
       "      <td>Creator</td>\n",
       "      <td>('36.76775', '2.95924')</td>\n",
       "    </tr>\n",
       "    <tr>\n",
       "      <th>1</th>\n",
       "      <td>2021-04-09 19:55:07</td>\n",
       "      <td>Viewer</td>\n",
       "      <td>('43.71032', '-1.05366')</td>\n",
       "    </tr>\n",
       "    <tr>\n",
       "      <th>2</th>\n",
       "      <td>2021-04-08 21:48:45</td>\n",
       "      <td>Super Gamer</td>\n",
       "      <td>('51.26', '-2.1875')</td>\n",
       "    </tr>\n",
       "    <tr>\n",
       "      <th>3</th>\n",
       "      <td>2021-05-15 00:45:51</td>\n",
       "      <td>Creator</td>\n",
       "      <td>('40.65538', '-74.38987')</td>\n",
       "    </tr>\n",
       "    <tr>\n",
       "      <th>4</th>\n",
       "      <td>2021-07-05 04:08:53</td>\n",
       "      <td>Viewer</td>\n",
       "      <td>('35.61452', '-88.81395')</td>\n",
       "    </tr>\n",
       "    <tr>\n",
       "      <th>...</th>\n",
       "      <td>...</td>\n",
       "      <td>...</td>\n",
       "      <td>...</td>\n",
       "    </tr>\n",
       "    <tr>\n",
       "      <th>995</th>\n",
       "      <td>2021-11-15 15:16:47</td>\n",
       "      <td>Viewer</td>\n",
       "      <td>('-23.44361', '-51.87389')</td>\n",
       "    </tr>\n",
       "    <tr>\n",
       "      <th>996</th>\n",
       "      <td>2021-03-26 22:23:00</td>\n",
       "      <td>Creator</td>\n",
       "      <td>('54.48147', '53.47103')</td>\n",
       "    </tr>\n",
       "    <tr>\n",
       "      <th>997</th>\n",
       "      <td>2021-08-28 20:45:04</td>\n",
       "      <td>Super Gamer</td>\n",
       "      <td>('18.87813', '72.93924')</td>\n",
       "    </tr>\n",
       "    <tr>\n",
       "      <th>998</th>\n",
       "      <td>2021-04-15 10:35:55</td>\n",
       "      <td>Viewer</td>\n",
       "      <td>('31.92923', '34.86563')</td>\n",
       "    </tr>\n",
       "    <tr>\n",
       "      <th>999</th>\n",
       "      <td>2021-05-01 09:08:13</td>\n",
       "      <td>Viewer</td>\n",
       "      <td>('27.76056', '-15.58602')</td>\n",
       "    </tr>\n",
       "  </tbody>\n",
       "</table>\n",
       "<p>1000 rows × 3 columns</p>\n",
       "</div>"
      ],
      "text/plain": [
       "              created_at        class                 coordinates\n",
       "0    2021-03-23 00:24:53      Creator     ('36.76775', '2.95924')\n",
       "1    2021-04-09 19:55:07       Viewer    ('43.71032', '-1.05366')\n",
       "2    2021-04-08 21:48:45  Super Gamer        ('51.26', '-2.1875')\n",
       "3    2021-05-15 00:45:51      Creator   ('40.65538', '-74.38987')\n",
       "4    2021-07-05 04:08:53       Viewer   ('35.61452', '-88.81395')\n",
       "..                   ...          ...                         ...\n",
       "995  2021-11-15 15:16:47       Viewer  ('-23.44361', '-51.87389')\n",
       "996  2021-03-26 22:23:00      Creator    ('54.48147', '53.47103')\n",
       "997  2021-08-28 20:45:04  Super Gamer    ('18.87813', '72.93924')\n",
       "998  2021-04-15 10:35:55       Viewer    ('31.92923', '34.86563')\n",
       "999  2021-05-01 09:08:13       Viewer   ('27.76056', '-15.58602')\n",
       "\n",
       "[1000 rows x 3 columns]"
      ]
     },
     "execution_count": 5,
     "metadata": {},
     "output_type": "execute_result"
    }
   ],
   "source": [
    "users = users.drop('id', axis=1)\n",
    "users"
   ]
  },
  {
   "cell_type": "markdown",
   "id": "ae51cf95",
   "metadata": {},
   "source": [
    "## User Class"
   ]
  },
  {
   "cell_type": "code",
   "execution_count": 6,
   "id": "f29df0a8",
   "metadata": {
    "scrolled": true
   },
   "outputs": [
    {
     "data": {
      "text/plain": [
       "class        \n",
       "Gamer            213\n",
       "Super Gamer      209\n",
       "Super Creator    206\n",
       "Creator          186\n",
       "Viewer           186\n",
       "dtype: int64"
      ]
     },
     "execution_count": 6,
     "metadata": {},
     "output_type": "execute_result"
    }
   ],
   "source": [
    "# Displaying the numbers of each class\n",
    "\n",
    "users[['class']].value_counts()\n",
    "\n",
    "# the counts show that the breakdown is not completely skewed"
   ]
  },
  {
   "cell_type": "code",
   "execution_count": 7,
   "id": "d5fc2376",
   "metadata": {
    "scrolled": false
   },
   "outputs": [
    {
     "data": {
      "text/plain": [
       "<AxesSubplot:xlabel='class'>"
      ]
     },
     "execution_count": 7,
     "metadata": {},
     "output_type": "execute_result"
    },
    {
     "data": {
      "image/png": "[encoded data removed]",
      "text/plain": [
       "<Figure size 432x288 with 1 Axes>"
      ]
     },
     "metadata": {
      "needs_background": "light"
     },
     "output_type": "display_data"
    }
   ],
   "source": [
    "# Showing graphical information for the class breakdown\n",
    "\n",
    "users[['class']].value_counts().plot(kind='bar')"
   ]
  },
  {
   "cell_type": "code",
   "execution_count": 8,
   "id": "62291c72",
   "metadata": {
    "scrolled": true
   },
   "outputs": [
    {
     "data": {
      "text/plain": [
       "year  month\n",
       "2021  1         90\n",
       "      2         79\n",
       "      3         83\n",
       "      4         85\n",
       "      5         77\n",
       "      6         83\n",
       "      7        103\n",
       "      8         88\n",
       "      9         93\n",
       "      10        82\n",
       "      11        95\n",
       "      12        42\n",
       "dtype: int64"
      ]
     },
     "execution_count": 8,
     "metadata": {},
     "output_type": "execute_result"
    }
   ],
   "source": [
    "# separating out year, month, and month_year\n",
    "\n",
    "# converting created_at feature to datetime for ease of use\n",
    "users['datetime'] = pd.DatetimeIndex(users['created_at'])\n",
    "\n",
    "# get the year and month to see what the breakdown is by year\n",
    "users['year'] = users['datetime'].dt.year\n",
    "users['month'] = users['datetime'].dt.month\n",
    "# users['m_y'] = users['datetime'].dt.strftime('%m-%Y')\n",
    "\n",
    "# number of new users per month broken down by year\n",
    "users[['year', 'month']].value_counts().sort_index()"
   ]
  },
  {
   "cell_type": "code",
   "execution_count": 9,
   "id": "8ed80a32",
   "metadata": {
    "scrolled": true
   },
   "outputs": [
    {
     "data": {
      "text/plain": [
       "<AxesSubplot:title={'center':'New User by Month in 2021'}, xlabel='month', ylabel='Number of New Users'>"
      ]
     },
     "execution_count": 9,
     "metadata": {},
     "output_type": "execute_result"
    },
    {
     "data": {
      "image/png": "[encoded data removed]",
      "text/plain": [
       "<Figure size 432x288 with 1 Axes>"
      ]
     },
     "metadata": {
      "needs_background": "light"
     },
     "output_type": "display_data"
    }
   ],
   "source": [
    "# A graph would be easier to interpret even though we can see that July is the high and December is the low above\n",
    "\n",
    "plt.title('New User by Month in 2021')\n",
    "plt.ylabel('Number of New Users')\n",
    "users[['month']].value_counts().sort_index().plot(kind='bar')\n",
    "\n",
    "# peak is July, low is December (CONFIRMED)\n",
    "# What could possibly affect the userbase in DECEMBER?"
   ]
  },
  {
   "cell_type": "code",
   "execution_count": 10,
   "id": "e406100e",
   "metadata": {},
   "outputs": [
    {
     "data": {
      "text/plain": [
       "1     5\n",
       "2     3\n",
       "3     1\n",
       "4     1\n",
       "6     3\n",
       "7     3\n",
       "8     5\n",
       "9     2\n",
       "10    2\n",
       "11    6\n",
       "12    1\n",
       "13    6\n",
       "15    4\n",
       "Name: day, dtype: int64"
      ]
     },
     "execution_count": 10,
     "metadata": {},
     "output_type": "execute_result"
    }
   ],
   "source": [
    "# checking to see if December has complete data\n",
    "\n",
    "users['day'] = users['datetime'].dt.day\n",
    "\n",
    "users[users['month'] == 12]['day'].value_counts().sort_index()\n",
    "\n",
    "# December's data is sparse after the 15th\n",
    "# but even December 5th and 14th have no data\n",
    "# given these 2 missing days, it is plausible that the December data is complete and people just did not sign up\n",
    "# it is also plausible that something was wrong with the servers"
   ]
  },
  {
   "cell_type": "code",
   "execution_count": 11,
   "id": "3d5b5b16",
   "metadata": {},
   "outputs": [
    {
     "data": {
      "text/plain": [
       "1     8\n",
       "2     5\n",
       "3     2\n",
       "4     3\n",
       "5     1\n",
       "6     2\n",
       "7     3\n",
       "8     4\n",
       "9     1\n",
       "10    4\n",
       "11    4\n",
       "12    4\n",
       "13    1\n",
       "14    3\n",
       "15    6\n",
       "16    1\n",
       "17    4\n",
       "18    2\n",
       "19    3\n",
       "20    1\n",
       "21    4\n",
       "22    3\n",
       "23    2\n",
       "24    2\n",
       "25    4\n",
       "26    3\n",
       "27    3\n",
       "28    1\n",
       "29    1\n",
       "30    2\n",
       "31    3\n",
       "Name: day, dtype: int64"
      ]
     },
     "execution_count": 11,
     "metadata": {},
     "output_type": "execute_result"
    }
   ],
   "source": [
    "# given that January's data is complete, it is odd that December's data is missing since both months have bigger holidays\n",
    "# Should also look for holidays in India as userbase is large there\n",
    "\n",
    "users[users['month'] == 1]['day'].value_counts().sort_index()"
   ]
  },
  {
   "cell_type": "code",
   "execution_count": 12,
   "id": "d7fa5e55",
   "metadata": {
    "scrolled": false
   },
   "outputs": [
    {
     "data": {
      "image/png": "[encoded data removed]",
      "text/plain": [
       "<Figure size 1440x720 with 1 Axes>"
      ]
     },
     "metadata": {
      "needs_background": "light"
     },
     "output_type": "display_data"
    }
   ],
   "source": [
    "# looking to see if there is a trend that all users follow by using an unstacked bar chart to possibly find trends\n",
    "\n",
    "users.groupby(['class', 'month'])['month'].count().unstack('class').plot(kind='bar', figsize=(20,10))\n",
    "plt.title('New User by Class per Month in 2021')\n",
    "plt.ylabel('Number of New Users')\n",
    "plt.show()\n",
    "\n",
    "# the unstacked bar chart is quite messy looking and an overall trend between user classes seems indistinguishable\n",
    "# Super gamer peaked in Jan\n",
    "# Viewer peaked in April and July\n",
    "# Gamer peaked in September and November"
   ]
  },
  {
   "cell_type": "code",
   "execution_count": 39,
   "id": "5a9160ac",
   "metadata": {
    "scrolled": true
   },
   "outputs": [
    {
     "data": {
      "text/plain": [
       "<seaborn.axisgrid.FacetGrid at 0x1e0a558a220>"
      ]
     },
     "execution_count": 39,
     "metadata": {},
     "output_type": "execute_result"
    },
    {
     "data": {
      "image/png": "[encoded data removed]",
      "text/plain": [
       "<Figure size 1080x288 with 5 Axes>"
      ]
     },
     "metadata": {
      "needs_background": "light"
     },
     "output_type": "display_data"
    }
   ],
   "source": [
    "# Using a side by side comparison to get a cleaner look at the trends of each class\n",
    "\n",
    "user_class = sns.FacetGrid(data=users, col='class', hue='class', palette='Set1', height=4, aspect=30/40)\n",
    "user_class.map(sns.histplot, 'month', bins=12)\n",
    "user_class.set(xticks=np.arange(1,13))\n",
    "\n",
    "# The noticeable trends in the unstacked bar chart are visible even in side by side comparison\n",
    "\n",
    "# Super Gamer -> trend seems to decrease\n",
    "# Gamer -> trend seems to increase\n",
    "# Super Gamer transitioning to Gamer?\n",
    "# Why are there so many Super Gamers in Jan? Sign up bonus?\n",
    "# Why does Gamer spike in September and November?\n",
    "\n",
    "\n",
    "# Viewer -> spikes in April and July\n",
    "# Why is new Viewership so high in April and July?"
   ]
  },
  {
   "cell_type": "markdown",
   "id": "1ba324f4",
   "metadata": {},
   "source": [
    "### Creator"
   ]
  },
  {
   "cell_type": "code",
   "execution_count": 48,
   "id": "3cd44f8d",
   "metadata": {
    "scrolled": true
   },
   "outputs": [
    {
     "data": {
      "text/plain": [
       "Text(0, 0.5, 'Number of New Creators')"
      ]
     },
     "execution_count": 48,
     "metadata": {},
     "output_type": "execute_result"
    },
    {
     "data": {
      "image/png": "[encoded data removed]",
      "text/plain": [
       "<Figure size 432x288 with 1 Axes>"
      ]
     },
     "metadata": {
      "needs_background": "light"
     },
     "output_type": "display_data"
    }
   ],
   "source": [
    "# A line graph to see the time series graph \n",
    "\n",
    "months_list = list(range(1, 13))\n",
    "\n",
    "# get the count of new creators by month sorting by index\n",
    "users_creator = users[users['class']=='Creator']['month'].value_counts().sort_index()\n",
    "\n",
    "# creating a list from above to pass into mk test\n",
    "users_creator_list = list(users_creator)\n",
    "\n",
    "# plot the time-series graph\n",
    "plt.plot(months_list, users_creator_list)\n",
    "plt.title('New Creators Over 1 Year')\n",
    "plt.xlabel('Months')\n",
    "plt.ylabel('Number of New Creators')"
   ]
  },
  {
   "cell_type": "code",
   "execution_count": 45,
   "id": "07260135",
   "metadata": {
    "scrolled": true
   },
   "outputs": [
    {
     "data": {
      "text/html": [
       "<div>\n",
       "<style scoped>\n",
       "    .dataframe tbody tr th:only-of-type {\n",
       "        vertical-align: middle;\n",
       "    }\n",
       "\n",
       "    .dataframe tbody tr th {\n",
       "        vertical-align: top;\n",
       "    }\n",
       "\n",
       "    .dataframe thead th {\n",
       "        text-align: right;\n",
       "    }\n",
       "</style>\n",
       "<table border=\"1\" class=\"dataframe\">\n",
       "  <thead>\n",
       "    <tr style=\"text-align: right;\">\n",
       "      <th></th>\n",
       "      <th>Statistics</th>\n",
       "    </tr>\n",
       "    <tr>\n",
       "      <th>Label</th>\n",
       "      <th></th>\n",
       "    </tr>\n",
       "  </thead>\n",
       "  <tbody>\n",
       "    <tr>\n",
       "      <th>trend</th>\n",
       "      <td>no trend</td>\n",
       "    </tr>\n",
       "    <tr>\n",
       "      <th>h</th>\n",
       "      <td>False</td>\n",
       "    </tr>\n",
       "    <tr>\n",
       "      <th>p</th>\n",
       "      <td>1.0</td>\n",
       "    </tr>\n",
       "    <tr>\n",
       "      <th>z</th>\n",
       "      <td>0.0</td>\n",
       "    </tr>\n",
       "    <tr>\n",
       "      <th>Tau</th>\n",
       "      <td>0.015152</td>\n",
       "    </tr>\n",
       "    <tr>\n",
       "      <th>s</th>\n",
       "      <td>1.0</td>\n",
       "    </tr>\n",
       "    <tr>\n",
       "      <th>var_s</th>\n",
       "      <td>207.0</td>\n",
       "    </tr>\n",
       "    <tr>\n",
       "      <th>slope</th>\n",
       "      <td>0.0</td>\n",
       "    </tr>\n",
       "    <tr>\n",
       "      <th>intercept</th>\n",
       "      <td>16.0</td>\n",
       "    </tr>\n",
       "  </tbody>\n",
       "</table>\n",
       "</div>"
      ],
      "text/plain": [
       "          Statistics\n",
       "Label               \n",
       "trend       no trend\n",
       "h              False\n",
       "p                1.0\n",
       "z                0.0\n",
       "Tau         0.015152\n",
       "s                1.0\n",
       "var_s          207.0\n",
       "slope            0.0\n",
       "intercept       16.0"
      ]
     },
     "execution_count": 45,
     "metadata": {},
     "output_type": "execute_result"
    }
   ],
   "source": [
    "# testing significance of possible trends using mann-kendall test\n",
    "\n",
    "import pymannkendall as mk\n",
    "\n",
    "# run the mk test\n",
    "df_creator = pd.DataFrame(mk.original_test(users_creator_list))\n",
    "\n",
    "# Creating a dataframe of the mk test stats for easy viewing\n",
    "mk_labels = ['trend', 'h', 'p', 'z', 'Tau', 's', 'var_s', 'slope', 'intercept']\n",
    "df_creator.columns = ['Statistics']\n",
    "df_creator['Label'] = mk_labels\n",
    "df_creator = df_creator.set_index('Label')\n",
    "df_creator\n",
    "\n",
    "# According to mk:\n",
    "# there is no trend, but we still see there is a drop in December (WHY?)"
   ]
  },
  {
   "cell_type": "markdown",
   "id": "fbac954a",
   "metadata": {},
   "source": [
    "### Viewer"
   ]
  },
  {
   "cell_type": "code",
   "execution_count": 49,
   "id": "afdecd02",
   "metadata": {
    "scrolled": true
   },
   "outputs": [
    {
     "data": {
      "text/plain": [
       "Text(0, 0.5, 'Number of New Viewers')"
      ]
     },
     "execution_count": 49,
     "metadata": {},
     "output_type": "execute_result"
    },
    {
     "data": {
      "image/png": "[encoded data removed]",
      "text/plain": [
       "<Figure size 432x288 with 1 Axes>"
      ]
     },
     "metadata": {
      "needs_background": "light"
     },
     "output_type": "display_data"
    }
   ],
   "source": [
    "# A line graph to see the time series graph \n",
    "\n",
    "# get the count of new viewers by month sorting by index\n",
    "users_viewer = users[users['class']=='Viewer']['month'].value_counts().sort_index()\n",
    "\n",
    "# creating a list from above to pass into mk test\n",
    "users_viewer_list = list(users_viewer)\n",
    "\n",
    "# plot the time-series graph\n",
    "plt.plot(months_list, users_viewer_list)\n",
    "plt.title('New Viewers over 1 Year')\n",
    "plt.xlabel('Months')\n",
    "plt.ylabel('Number of New Viewers')"
   ]
  },
  {
   "cell_type": "code",
   "execution_count": 50,
   "id": "6ccafb7c",
   "metadata": {
    "scrolled": true
   },
   "outputs": [
    {
     "data": {
      "text/html": [
       "<div>\n",
       "<style scoped>\n",
       "    .dataframe tbody tr th:only-of-type {\n",
       "        vertical-align: middle;\n",
       "    }\n",
       "\n",
       "    .dataframe tbody tr th {\n",
       "        vertical-align: top;\n",
       "    }\n",
       "\n",
       "    .dataframe thead th {\n",
       "        text-align: right;\n",
       "    }\n",
       "</style>\n",
       "<table border=\"1\" class=\"dataframe\">\n",
       "  <thead>\n",
       "    <tr style=\"text-align: right;\">\n",
       "      <th></th>\n",
       "      <th>Statistics</th>\n",
       "    </tr>\n",
       "    <tr>\n",
       "      <th>Label</th>\n",
       "      <th></th>\n",
       "    </tr>\n",
       "  </thead>\n",
       "  <tbody>\n",
       "    <tr>\n",
       "      <th>trend</th>\n",
       "      <td>no trend</td>\n",
       "    </tr>\n",
       "    <tr>\n",
       "      <th>h</th>\n",
       "      <td>False</td>\n",
       "    </tr>\n",
       "    <tr>\n",
       "      <th>p</th>\n",
       "      <td>0.111337</td>\n",
       "    </tr>\n",
       "    <tr>\n",
       "      <th>z</th>\n",
       "      <td>-1.592213</td>\n",
       "    </tr>\n",
       "    <tr>\n",
       "      <th>Tau</th>\n",
       "      <td>-0.363636</td>\n",
       "    </tr>\n",
       "    <tr>\n",
       "      <th>s</th>\n",
       "      <td>-24.0</td>\n",
       "    </tr>\n",
       "    <tr>\n",
       "      <th>var_s</th>\n",
       "      <td>208.666667</td>\n",
       "    </tr>\n",
       "    <tr>\n",
       "      <th>slope</th>\n",
       "      <td>-0.752525</td>\n",
       "    </tr>\n",
       "    <tr>\n",
       "      <th>intercept</th>\n",
       "      <td>17.638889</td>\n",
       "    </tr>\n",
       "  </tbody>\n",
       "</table>\n",
       "</div>"
      ],
      "text/plain": [
       "           Statistics\n",
       "Label                \n",
       "trend        no trend\n",
       "h               False\n",
       "p            0.111337\n",
       "z           -1.592213\n",
       "Tau         -0.363636\n",
       "s               -24.0\n",
       "var_s      208.666667\n",
       "slope       -0.752525\n",
       "intercept   17.638889"
      ]
     },
     "execution_count": 50,
     "metadata": {},
     "output_type": "execute_result"
    }
   ],
   "source": [
    "# testing significance of possible trends using mann-kendall test\n",
    "\n",
    "# run the mk test\n",
    "df_viewer = pd.DataFrame(mk.original_test(users_viewer_list))\n",
    "\n",
    "# Creating a dataframe of the mk test stats for easy viewing\n",
    "mk_labels = ['trend', 'h', 'p', 'z', 'Tau', 's', 'var_s', 'slope', 'intercept']\n",
    "df_viewer.columns = ['Statistics']\n",
    "df_viewer['Label'] = mk_labels\n",
    "df_viewer = df_viewer.set_index('Label')\n",
    "df_viewer\n",
    "\n",
    "# According to mk:\n",
    "# there is no trend, but we still see spikes in the middle (WHY?)\n",
    "# there is also a dip at the end"
   ]
  },
  {
   "cell_type": "markdown",
   "id": "25a87d31",
   "metadata": {},
   "source": [
    "### Super Gamer"
   ]
  },
  {
   "cell_type": "code",
   "execution_count": 51,
   "id": "bbfe770d",
   "metadata": {},
   "outputs": [
    {
     "data": {
      "text/plain": [
       "Text(0, 0.5, 'Number of New Super Gamers')"
      ]
     },
     "execution_count": 51,
     "metadata": {},
     "output_type": "execute_result"
    },
    {
     "data": {
      "image/png": "[encoded data removed]",
      "text/plain": [
       "<Figure size 432x288 with 1 Axes>"
      ]
     },
     "metadata": {
      "needs_background": "light"
     },
     "output_type": "display_data"
    }
   ],
   "source": [
    "# A line graph to see the time series graph \n",
    "\n",
    "# get the count of new super_gamers by month sorting by index\n",
    "users_super_gamer = users[users['class']=='Super Gamer']['month'].value_counts().sort_index()\n",
    "\n",
    "# creating a list from above to pass into mk test\n",
    "users_super_gamer_list = list(users_super_gamer)\n",
    "\n",
    "# plot the time-series graph\n",
    "plt.plot(months_list, users_super_gamer_list)\n",
    "plt.title('New Super Gamers over 1 Year')\n",
    "plt.xlabel('Months')\n",
    "plt.ylabel('Number of New Super Gamers')"
   ]
  },
  {
   "cell_type": "code",
   "execution_count": 52,
   "id": "fbb65eb5",
   "metadata": {
    "scrolled": true
   },
   "outputs": [
    {
     "data": {
      "text/html": [
       "<div>\n",
       "<style scoped>\n",
       "    .dataframe tbody tr th:only-of-type {\n",
       "        vertical-align: middle;\n",
       "    }\n",
       "\n",
       "    .dataframe tbody tr th {\n",
       "        vertical-align: top;\n",
       "    }\n",
       "\n",
       "    .dataframe thead th {\n",
       "        text-align: right;\n",
       "    }\n",
       "</style>\n",
       "<table border=\"1\" class=\"dataframe\">\n",
       "  <thead>\n",
       "    <tr style=\"text-align: right;\">\n",
       "      <th></th>\n",
       "      <th>Statistics</th>\n",
       "    </tr>\n",
       "    <tr>\n",
       "      <th>Label</th>\n",
       "      <th></th>\n",
       "    </tr>\n",
       "  </thead>\n",
       "  <tbody>\n",
       "    <tr>\n",
       "      <th>trend</th>\n",
       "      <td>no trend</td>\n",
       "    </tr>\n",
       "    <tr>\n",
       "      <th>h</th>\n",
       "      <td>False</td>\n",
       "    </tr>\n",
       "    <tr>\n",
       "      <th>p</th>\n",
       "      <td>0.110765</td>\n",
       "    </tr>\n",
       "    <tr>\n",
       "      <th>z</th>\n",
       "      <td>-1.594763</td>\n",
       "    </tr>\n",
       "    <tr>\n",
       "      <th>Tau</th>\n",
       "      <td>-0.363636</td>\n",
       "    </tr>\n",
       "    <tr>\n",
       "      <th>s</th>\n",
       "      <td>-24.0</td>\n",
       "    </tr>\n",
       "    <tr>\n",
       "      <th>var_s</th>\n",
       "      <td>208.0</td>\n",
       "    </tr>\n",
       "    <tr>\n",
       "      <th>slope</th>\n",
       "      <td>-0.8875</td>\n",
       "    </tr>\n",
       "    <tr>\n",
       "      <th>intercept</th>\n",
       "      <td>22.38125</td>\n",
       "    </tr>\n",
       "  </tbody>\n",
       "</table>\n",
       "</div>"
      ],
      "text/plain": [
       "          Statistics\n",
       "Label               \n",
       "trend       no trend\n",
       "h              False\n",
       "p           0.110765\n",
       "z          -1.594763\n",
       "Tau        -0.363636\n",
       "s              -24.0\n",
       "var_s          208.0\n",
       "slope        -0.8875\n",
       "intercept   22.38125"
      ]
     },
     "execution_count": 52,
     "metadata": {},
     "output_type": "execute_result"
    }
   ],
   "source": [
    "# testing significance of possible trends using mann-kendall test\n",
    "\n",
    "# run the mk test\n",
    "df_super_gamer = pd.DataFrame(mk.original_test(users_super_gamer_list))\n",
    "\n",
    "# Creating a dataframe of the mk test stats for easy viewing\n",
    "mk_labels = ['trend', 'h', 'p', 'z', 'Tau', 's', 'var_s', 'slope', 'intercept']\n",
    "df_super_gamer.columns = ['Statistics']\n",
    "df_super_gamer['Label'] = mk_labels\n",
    "df_super_gamer = df_super_gamer.set_index('Label')\n",
    "df_super_gamer\n",
    "\n",
    "# According to mk:\n",
    "# there is no trend, but we still see it is decreasing"
   ]
  },
  {
   "cell_type": "markdown",
   "id": "d1f6f5c5",
   "metadata": {},
   "source": [
    "### Super Creator"
   ]
  },
  {
   "cell_type": "code",
   "execution_count": 55,
   "id": "a30b9e20",
   "metadata": {},
   "outputs": [
    {
     "data": {
      "text/plain": [
       "Text(0, 0.5, 'Number of New Super Creators')"
      ]
     },
     "execution_count": 55,
     "metadata": {},
     "output_type": "execute_result"
    },
    {
     "data": {
      "image/png": "[encoded data removed]",
      "text/plain": [
       "<Figure size 432x288 with 1 Axes>"
      ]
     },
     "metadata": {
      "needs_background": "light"
     },
     "output_type": "display_data"
    }
   ],
   "source": [
    "# A line graph to see the time series graph \n",
    "\n",
    "# get the count of new super_creators by month sorting by index\n",
    "users_super_creator = users[users['class']=='Super Creator']['month'].value_counts().sort_index()\n",
    "\n",
    "# creating a list from above to pass into mk test\n",
    "users_super_creator_list = list(users_super_creator)\n",
    "\n",
    "# plot the time-series graph\n",
    "plt.plot(months_list, users_super_creator_list)\n",
    "plt.title('New Super Creators over 1 Year')\n",
    "plt.xlabel('Months')\n",
    "plt.ylabel('Number of New Super Creators')"
   ]
  },
  {
   "cell_type": "code",
   "execution_count": 56,
   "id": "f867899b",
   "metadata": {},
   "outputs": [
    {
     "data": {
      "text/html": [
       "<div>\n",
       "<style scoped>\n",
       "    .dataframe tbody tr th:only-of-type {\n",
       "        vertical-align: middle;\n",
       "    }\n",
       "\n",
       "    .dataframe tbody tr th {\n",
       "        vertical-align: top;\n",
       "    }\n",
       "\n",
       "    .dataframe thead th {\n",
       "        text-align: right;\n",
       "    }\n",
       "</style>\n",
       "<table border=\"1\" class=\"dataframe\">\n",
       "  <thead>\n",
       "    <tr style=\"text-align: right;\">\n",
       "      <th></th>\n",
       "      <th>Statistics</th>\n",
       "    </tr>\n",
       "    <tr>\n",
       "      <th>Label</th>\n",
       "      <th></th>\n",
       "    </tr>\n",
       "  </thead>\n",
       "  <tbody>\n",
       "    <tr>\n",
       "      <th>trend</th>\n",
       "      <td>no trend</td>\n",
       "    </tr>\n",
       "    <tr>\n",
       "      <th>h</th>\n",
       "      <td>False</td>\n",
       "    </tr>\n",
       "    <tr>\n",
       "      <th>p</th>\n",
       "      <td>0.629606</td>\n",
       "    </tr>\n",
       "    <tr>\n",
       "      <th>z</th>\n",
       "      <td>0.482281</td>\n",
       "    </tr>\n",
       "    <tr>\n",
       "      <th>Tau</th>\n",
       "      <td>0.121212</td>\n",
       "    </tr>\n",
       "    <tr>\n",
       "      <th>s</th>\n",
       "      <td>8.0</td>\n",
       "    </tr>\n",
       "    <tr>\n",
       "      <th>var_s</th>\n",
       "      <td>210.666667</td>\n",
       "    </tr>\n",
       "    <tr>\n",
       "      <th>slope</th>\n",
       "      <td>0.211111</td>\n",
       "    </tr>\n",
       "    <tr>\n",
       "      <th>intercept</th>\n",
       "      <td>15.838889</td>\n",
       "    </tr>\n",
       "  </tbody>\n",
       "</table>\n",
       "</div>"
      ],
      "text/plain": [
       "           Statistics\n",
       "Label                \n",
       "trend        no trend\n",
       "h               False\n",
       "p            0.629606\n",
       "z            0.482281\n",
       "Tau          0.121212\n",
       "s                 8.0\n",
       "var_s      210.666667\n",
       "slope        0.211111\n",
       "intercept   15.838889"
      ]
     },
     "execution_count": 56,
     "metadata": {},
     "output_type": "execute_result"
    }
   ],
   "source": [
    "# testing significance of possible trends using mann-kendall test\n",
    "\n",
    "# run the mk test\n",
    "df_super_creator = pd.DataFrame(mk.original_test(users_super_creator_list))\n",
    "\n",
    "# Creating a dataframe of the mk test stats for easy viewing\n",
    "mk_labels = ['trend', 'h', 'p', 'z', 'Tau', 's', 'var_s', 'slope', 'intercept']\n",
    "df_super_creator.columns = ['Statistics']\n",
    "df_super_creator['Label'] = mk_labels\n",
    "df_super_creator = df_super_creator.set_index('Label')\n",
    "df_super_creator\n",
    "\n",
    "# According to mk:\n",
    "# there is no trend"
   ]
  },
  {
   "cell_type": "markdown",
   "id": "d1d87aac",
   "metadata": {},
   "source": [
    "### Gamer"
   ]
  },
  {
   "cell_type": "code",
   "execution_count": 57,
   "id": "126e6a4d",
   "metadata": {},
   "outputs": [
    {
     "data": {
      "text/plain": [
       "Text(0, 0.5, 'Number of New Gamers')"
      ]
     },
     "execution_count": 57,
     "metadata": {},
     "output_type": "execute_result"
    },
    {
     "data": {
      "image/png": "[encoded data removed]",
      "text/plain": [
       "<Figure size 432x288 with 1 Axes>"
      ]
     },
     "metadata": {
      "needs_background": "light"
     },
     "output_type": "display_data"
    }
   ],
   "source": [
    "# A line graph to see the time series graph \n",
    "\n",
    "# get the count of new gamers by month sorting by index\n",
    "users_gamer = users[users['class']=='Gamer']['month'].value_counts().sort_index()\n",
    "\n",
    "# creating a list from above to pass into mk test\n",
    "users_gamer_list = list(users_gamer)\n",
    "\n",
    "# plot the time-series graph\n",
    "plt.plot(months_list, users_gamer_list)\n",
    "plt.title('New Gamers over 1 Year')\n",
    "plt.xlabel('Months')\n",
    "plt.ylabel('Number of New Gamers')"
   ]
  },
  {
   "cell_type": "code",
   "execution_count": 58,
   "id": "6698b7ca",
   "metadata": {},
   "outputs": [
    {
     "data": {
      "text/html": [
       "<div>\n",
       "<style scoped>\n",
       "    .dataframe tbody tr th:only-of-type {\n",
       "        vertical-align: middle;\n",
       "    }\n",
       "\n",
       "    .dataframe tbody tr th {\n",
       "        vertical-align: top;\n",
       "    }\n",
       "\n",
       "    .dataframe thead th {\n",
       "        text-align: right;\n",
       "    }\n",
       "</style>\n",
       "<table border=\"1\" class=\"dataframe\">\n",
       "  <thead>\n",
       "    <tr style=\"text-align: right;\">\n",
       "      <th></th>\n",
       "      <th>Statistics</th>\n",
       "    </tr>\n",
       "    <tr>\n",
       "      <th>Label</th>\n",
       "      <th></th>\n",
       "    </tr>\n",
       "  </thead>\n",
       "  <tbody>\n",
       "    <tr>\n",
       "      <th>trend</th>\n",
       "      <td>no trend</td>\n",
       "    </tr>\n",
       "    <tr>\n",
       "      <th>h</th>\n",
       "      <td>False</td>\n",
       "    </tr>\n",
       "    <tr>\n",
       "      <th>p</th>\n",
       "      <td>0.241497</td>\n",
       "    </tr>\n",
       "    <tr>\n",
       "      <th>z</th>\n",
       "      <td>1.171254</td>\n",
       "    </tr>\n",
       "    <tr>\n",
       "      <th>Tau</th>\n",
       "      <td>0.272727</td>\n",
       "    </tr>\n",
       "    <tr>\n",
       "      <th>s</th>\n",
       "      <td>18.0</td>\n",
       "    </tr>\n",
       "    <tr>\n",
       "      <th>var_s</th>\n",
       "      <td>210.666667</td>\n",
       "    </tr>\n",
       "    <tr>\n",
       "      <th>slope</th>\n",
       "      <td>0.5</td>\n",
       "    </tr>\n",
       "    <tr>\n",
       "      <th>intercept</th>\n",
       "      <td>14.25</td>\n",
       "    </tr>\n",
       "  </tbody>\n",
       "</table>\n",
       "</div>"
      ],
      "text/plain": [
       "           Statistics\n",
       "Label                \n",
       "trend        no trend\n",
       "h               False\n",
       "p            0.241497\n",
       "z            1.171254\n",
       "Tau          0.272727\n",
       "s                18.0\n",
       "var_s      210.666667\n",
       "slope             0.5\n",
       "intercept       14.25"
      ]
     },
     "execution_count": 58,
     "metadata": {},
     "output_type": "execute_result"
    }
   ],
   "source": [
    "# testing significance of possible trends using mann-kendall test\n",
    "\n",
    "# run the mk test\n",
    "df_gamer = pd.DataFrame(mk.original_test(users_gamer_list))\n",
    "\n",
    "# Creating a dataframe of the mk test stats for easy viewing\n",
    "mk_labels = ['trend', 'h', 'p', 'z', 'Tau', 's', 'var_s', 'slope', 'intercept']\n",
    "df_gamer.columns = ['Statistics']\n",
    "df_gamer['Label'] = mk_labels\n",
    "df_gamer = df_gamer.set_index('Label')\n",
    "df_gamer\n",
    "\n",
    "# According to mk:\n",
    "# there is no trend"
   ]
  },
  {
   "cell_type": "code",
   "execution_count": null,
   "id": "cefe3f2c",
   "metadata": {},
   "outputs": [],
   "source": [
    "# Geolocation\n",
    "\n",
    "# For further analysis, I would want to see the concentrations where each class of user is located\n",
    "    # This would be in the form of a heat map of India and other locations where users are located\n",
    "    \n",
    "    # To further add to the discovery, I would want to see heat maps of the different user classes\n",
    "    # to find out where each class is located and to find out why\n",
    "\n",
    "# I would also try to delve deeper into why the concentrations are they way they are\n",
    "    # is it just a more populous city?\n",
    "    # is there an attraction that people are drawn to in that area?\n",
    "    # is internet faster or more stable in particular areas?\n",
    "    # is there access to mobile devices that support the app in those areas?\n",
    "    \n"
   ]
  },
  {
   "cell_type": "code",
   "execution_count": null,
   "id": "419932d6",
   "metadata": {},
   "outputs": [],
   "source": []
  },
  {
   "cell_type": "code",
   "execution_count": null,
   "id": "d8903fc9",
   "metadata": {},
   "outputs": [],
   "source": []
  },
  {
   "cell_type": "code",
   "execution_count": null,
   "id": "fea66ad7",
   "metadata": {},
   "outputs": [],
   "source": []
  },
  {
   "cell_type": "code",
   "execution_count": null,
   "id": "dc51cf3b",
   "metadata": {},
   "outputs": [],
   "source": []
  },
  {
   "cell_type": "code",
   "execution_count": null,
   "id": "93bf7c0d",
   "metadata": {},
   "outputs": [],
   "source": []
  },
  {
   "cell_type": "code",
   "execution_count": null,
   "id": "6cab31c3",
   "metadata": {},
   "outputs": [],
   "source": []
  },
  {
   "cell_type": "code",
   "execution_count": null,
   "id": "c812e701",
   "metadata": {},
   "outputs": [],
   "source": []
  },
  {
   "cell_type": "code",
   "execution_count": null,
   "id": "ac0ff865",
   "metadata": {},
   "outputs": [],
   "source": []
  },
  {
   "cell_type": "code",
   "execution_count": null,
   "id": "fbe87c6e",
   "metadata": {},
   "outputs": [],
   "source": []
  },
  {
   "cell_type": "code",
   "execution_count": null,
   "id": "824b205e",
   "metadata": {},
   "outputs": [],
   "source": []
  },
  {
   "cell_type": "code",
   "execution_count": null,
   "id": "c8b4cd03",
   "metadata": {},
   "outputs": [],
   "source": []
  },
  {
   "cell_type": "code",
   "execution_count": null,
   "id": "65f458a3",
   "metadata": {},
   "outputs": [],
   "source": []
  }
 ],
 "metadata": {
  "kernelspec": {
   "display_name": "proj3_tf",
   "language": "python",
   "name": "proj3_tf"
  },
  "language_info": {
   "codemirror_mode": {
    "name": "ipython",
    "version": 3
   },
   "file_extension": ".py",
   "mimetype": "text/x-python",
   "name": "python",
   "nbconvert_exporter": "python",
   "pygments_lexer": "ipython3",
   "version": "3.9.7"
  }
 },
 "nbformat": 4,
 "nbformat_minor": 5
}
